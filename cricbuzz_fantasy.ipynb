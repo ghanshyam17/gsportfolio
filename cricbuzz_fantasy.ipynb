{
  "nbformat": 4,
  "nbformat_minor": 0,
  "metadata": {
    "colab": {
      "name": "cricbuzz_fantasy.ipynb",
      "provenance": [],
      "collapsed_sections": [],
      "authorship_tag": "ABX9TyMcBbTgv5p9TCc+AGC1oDFU",
      "include_colab_link": true
    },
    "kernelspec": {
      "name": "python3",
      "display_name": "Python 3"
    }
  },
  "cells": [
    {
      "cell_type": "markdown",
      "metadata": {
        "id": "view-in-github",
        "colab_type": "text"
      },
      "source": [
        "<a href=\"https://colab.research.google.com/github/ghanshyam17/gsportfolio/blob/master/cricbuzz_fantasy.ipynb\" target=\"_parent\"><img src=\"https://colab.research.google.com/assets/colab-badge.svg\" alt=\"Open In Colab\"/></a>"
      ]
    },
    {
      "cell_type": "code",
      "metadata": {
        "id": "dNbS95ihpXx2",
        "colab": {
          "base_uri": "https://localhost:8080/",
          "height": 123
        },
        "outputId": "424299d8-bcea-42a3-ac28-4930cca54fec"
      },
      "source": [
        "pip install pycricbuzz"
      ],
      "execution_count": null,
      "outputs": [
        {
          "output_type": "stream",
          "text": [
            "Requirement already satisfied: pycricbuzz in /usr/local/lib/python3.6/dist-packages (2.4)\n",
            "Requirement already satisfied: requests in /usr/local/lib/python3.6/dist-packages (from pycricbuzz) (2.23.0)\n",
            "Requirement already satisfied: chardet<4,>=3.0.2 in /usr/local/lib/python3.6/dist-packages (from requests->pycricbuzz) (3.0.4)\n",
            "Requirement already satisfied: urllib3!=1.25.0,!=1.25.1,<1.26,>=1.21.1 in /usr/local/lib/python3.6/dist-packages (from requests->pycricbuzz) (1.24.3)\n",
            "Requirement already satisfied: idna<3,>=2.5 in /usr/local/lib/python3.6/dist-packages (from requests->pycricbuzz) (2.10)\n",
            "Requirement already satisfied: certifi>=2017.4.17 in /usr/local/lib/python3.6/dist-packages (from requests->pycricbuzz) (2020.6.20)\n"
          ],
          "name": "stdout"
        }
      ]
    },
    {
      "cell_type": "code",
      "metadata": {
        "id": "icHo1BJFVKUt"
      },
      "source": [
        "import pandas as pd\n",
        "import numpy as np\n",
        "import json"
      ],
      "execution_count": null,
      "outputs": []
    },
    {
      "cell_type": "markdown",
      "metadata": {
        "id": "ttEBJrgFrw2-"
      },
      "source": [
        "Create a cricbuzz object to access match details"
      ]
    },
    {
      "cell_type": "code",
      "metadata": {
        "id": "9CIsYpAOpfwl"
      },
      "source": [
        "from pycricbuzz import Cricbuzz\n",
        "c = Cricbuzz()"
      ],
      "execution_count": null,
      "outputs": []
    },
    {
      "cell_type": "markdown",
      "metadata": {
        "id": "dQ3s1BF0r6Np"
      },
      "source": [
        "Matches function returns all the recent match summary"
      ]
    },
    {
      "cell_type": "code",
      "metadata": {
        "id": "j03X-_Ampzt2"
      },
      "source": [
        "matches = c.matches()"
      ],
      "execution_count": null,
      "outputs": []
    },
    {
      "cell_type": "markdown",
      "metadata": {
        "id": "gzqXvOcPsnsP"
      },
      "source": [
        "Store the data in json external file"
      ]
    },
    {
      "cell_type": "code",
      "metadata": {
        "id": "FbA8PQomp4wr"
      },
      "source": [
        "with open(\"matches.json\", \"w\") as write_file:\n",
        "    json.dump(matches, write_file)"
      ],
      "execution_count": null,
      "outputs": []
    },
    {
      "cell_type": "markdown",
      "metadata": {
        "id": "rqVMAJiAsCcm"
      },
      "source": [
        "First Dump the data obtained from matches function and store the data in a variable"
      ]
    },
    {
      "cell_type": "code",
      "metadata": {
        "id": "yYl9a_f8p9vc"
      },
      "source": [
        "matches_data = json.dumps(matches, indent=4, sort_keys=True)"
      ],
      "execution_count": null,
      "outputs": []
    },
    {
      "cell_type": "code",
      "metadata": {
        "id": "-jJw5aFlLojB",
        "colab": {
          "base_uri": "https://localhost:8080/",
          "height": 1000
        },
        "outputId": "19f222cd-398c-4311-b3a1-12c8d20046fe"
      },
      "source": [
        "print(matches_data)"
      ],
      "execution_count": null,
      "outputs": [
        {
          "output_type": "stream",
          "text": [
            "[\n",
            "    {\n",
            "        \"id\": \"30439\",\n",
            "        \"mchstate\": \"inprogress\",\n",
            "        \"mnum\": \"28th Match\",\n",
            "        \"official\": {\n",
            "            \"referee\": {\n",
            "                \"country\": \"IND\",\n",
            "                \"id\": \"8968\",\n",
            "                \"name\": \"Vengalil Narayan Kutty\"\n",
            "            },\n",
            "            \"umpire1\": {\n",
            "                \"country\": \"ENG\",\n",
            "                \"id\": \"5398\",\n",
            "                \"name\": \"Richard Illingworth\"\n",
            "            },\n",
            "            \"umpire2\": {\n",
            "                \"country\": \"IND\",\n",
            "                \"id\": \"8914\",\n",
            "                \"name\": \"Krishnamachari Srinivasan\"\n",
            "            },\n",
            "            \"umpire3\": {\n",
            "                \"country\": \"IND\",\n",
            "                \"id\": \"8871\",\n",
            "                \"name\": \"KN Anantha Padmanabhan\"\n",
            "            }\n",
            "        },\n",
            "        \"srs\": \"Indian Premier League 2020\",\n",
            "        \"start_time\": \"2020-10-12 14:00:00\",\n",
            "        \"status\": \"RCB opt to bat\",\n",
            "        \"team1\": {\n",
            "            \"name\": \"Royal Challengers Bangalore\",\n",
            "            \"squad\": [\n",
            "                \"Devdutt Padikkal\",\n",
            "                \"Finch\",\n",
            "                \"Kohli\",\n",
            "                \"de Villiers\",\n",
            "                \"Washington Sundar\",\n",
            "                \"Shivam Dube\",\n",
            "                \"Chris Morris\",\n",
            "                \"Udana\",\n",
            "                \"Navdeep Saini\",\n",
            "                \"Siraj\",\n",
            "                \"Chahal\"\n",
            "            ],\n",
            "            \"squad_bench\": [\n",
            "                \"Moeen Ali\",\n",
            "                \"Negi\",\n",
            "                \"Zampa\",\n",
            "                \"Pavan Deshpande\",\n",
            "                \"Philippe\",\n",
            "                \"Shahbaz Ahmed\",\n",
            "                \"U Yadav\",\n",
            "                \"Steyn\",\n",
            "                \"Parthiv Patel\",\n",
            "                \"Gurkeerat Singh\"\n",
            "            ]\n",
            "        },\n",
            "        \"team2\": {\n",
            "            \"name\": \"Kolkata Knight Riders\",\n",
            "            \"squad\": [\n",
            "                \"Tripathi\",\n",
            "                \"Shubman Gill\",\n",
            "                \"Nitish Rana\",\n",
            "                \"Morgan\",\n",
            "                \"Karthik\",\n",
            "                \"Tom Banton\",\n",
            "                \"Russell\",\n",
            "                \"Cummins\",\n",
            "                \"K Nagarkoti\",\n",
            "                \"Prasidh\",\n",
            "                \"Chakravarthy\"\n",
            "            ],\n",
            "            \"squad_bench\": [\n",
            "                \"Kuldeep Yadav\",\n",
            "                \"Warrier\",\n",
            "                \"Lad\",\n",
            "                \"Nikhil Naik\",\n",
            "                \"Chris Green\",\n",
            "                \"Ferguson\",\n",
            "                \"Rinku Singh\",\n",
            "                \"Ali Khan\",\n",
            "                \"Shivam Mavi\",\n",
            "                \"Manimaran Siddharth\",\n",
            "                \"Narine\"\n",
            "            ]\n",
            "        },\n",
            "        \"toss\": \"Royal Challengers Bangalore elect to bat\",\n",
            "        \"type\": \"T20\",\n",
            "        \"venue_location\": \"Sharjah, United Arab Emirates\",\n",
            "        \"venue_name\": \"Sharjah Cricket Stadium\"\n",
            "    },\n",
            "    {\n",
            "        \"id\": \"30585\",\n",
            "        \"mchstate\": \"stump\",\n",
            "        \"mnum\": \"2nd Match\",\n",
            "        \"official\": {\n",
            "            \"referee\": {\n",
            "                \"country\": \"AUS\",\n",
            "                \"id\": \"8167\",\n",
            "                \"name\": \"Bob Stratford\"\n",
            "            },\n",
            "            \"umpire1\": {\n",
            "                \"country\": \"AUS\",\n",
            "                \"id\": \"6841\",\n",
            "                \"name\": \"Bruce Oxenford\"\n",
            "            },\n",
            "            \"umpire2\": {\n",
            "                \"country\": \"AUS\",\n",
            "                \"id\": \"12220\",\n",
            "                \"name\": \"Darren Close\"\n",
            "            }\n",
            "        },\n",
            "        \"srs\": \"Sheffield Shield 2020-21\",\n",
            "        \"start_time\": \"2020-10-10 00:00:00\",\n",
            "        \"status\": \"Day 3: Stumps - TAS trail by 193 runs\",\n",
            "        \"team1\": {\n",
            "            \"name\": \"Queensland\",\n",
            "            \"squad\": [\n",
            "                \"Burns\",\n",
            "                \"Bryce Street\",\n",
            "                \"Labuschagne\",\n",
            "                \"Khawaja\",\n",
            "                \"Renshaw\",\n",
            "                \"Peirson\",\n",
            "                \"Wildermuth\",\n",
            "                \"Neser\",\n",
            "                \"Steketee\",\n",
            "                \"Xavier Bartlett\",\n",
            "                \"Swepson\"\n",
            "            ],\n",
            "            \"squad_bench\": [\n",
            "                \"Lachlan Pfeffer\",\n",
            "                \"Blake Edwards\",\n",
            "                \"Benji Floros\",\n",
            "                \"Matthew Kuhnemann\"\n",
            "            ]\n",
            "        },\n",
            "        \"team2\": {\n",
            "            \"name\": \"Tasmania\",\n",
            "            \"squad\": [\n",
            "                \"Silk\",\n",
            "                \"Doolan\",\n",
            "                \"Wakim\",\n",
            "                \"McDermott\",\n",
            "                \"Doran\",\n",
            "                \"Paine\",\n",
            "                \"Webster\",\n",
            "                \"Nathan Ellis\",\n",
            "                \"Siddle\",\n",
            "                \"Bird\",\n",
            "                \"Riley Meredith\"\n",
            "            ],\n",
            "            \"squad_bench\": [\n",
            "                \"Tim Ward\",\n",
            "                \"Wright\",\n",
            "                \"Rainbird\",\n",
            "                \"Gabe Bell\",\n",
            "                \"Andrews\"\n",
            "            ]\n",
            "        },\n",
            "        \"toss\": \"Tasmania elect to bat\",\n",
            "        \"type\": \"TEST\",\n",
            "        \"venue_location\": \"Adelaide, Australia\",\n",
            "        \"venue_name\": \"Park 25 No. 2\"\n",
            "    },\n",
            "    {\n",
            "        \"id\": \"30584\",\n",
            "        \"mchstate\": \"stump\",\n",
            "        \"mnum\": \"1st Match\",\n",
            "        \"official\": {\n",
            "            \"referee\": {\n",
            "                \"country\": \"AUS\",\n",
            "                \"id\": \"6913\",\n",
            "                \"name\": \"Bob Parry\"\n",
            "            },\n",
            "            \"umpire1\": {\n",
            "                \"country\": \"AUS\",\n",
            "                \"id\": \"9472\",\n",
            "                \"name\": \"Michael Graham-Smith\"\n",
            "            },\n",
            "            \"umpire2\": {\n",
            "                \"country\": \"AUS\",\n",
            "                \"id\": \"11056\",\n",
            "                \"name\": \"Donovan Marius Koch\"\n",
            "            }\n",
            "        },\n",
            "        \"srs\": \"Sheffield Shield 2020-21\",\n",
            "        \"start_time\": \"2020-10-10 00:30:00\",\n",
            "        \"status\": \"Day 3: Stumps - Western AUS lead by 362 runs\",\n",
            "        \"team1\": {\n",
            "            \"name\": \"South Australia\",\n",
            "            \"squad\": [\n",
            "                \"Weatherald\",\n",
            "                \"Henry Hunt\",\n",
            "                \"Brad Davis\",\n",
            "                \"Head\",\n",
            "                \"Tom Cooper\",\n",
            "                \"Harry Nielsen\",\n",
            "                \"Liam Scott\",\n",
            "                \"Winter\",\n",
            "                \"Sayers\",\n",
            "                \"Wes Agar\",\n",
            "                \"Lloyd Pope\"\n",
            "            ],\n",
            "            \"squad_bench\": [\n",
            "                \"Ferguson\",\n",
            "                \"Conor McInerney\",\n",
            "                \"Valente\",\n",
            "                \"Luke Robins\"\n",
            "            ]\n",
            "        },\n",
            "        \"team2\": {\n",
            "            \"name\": \"Western Australia\",\n",
            "            \"squad\": [\n",
            "                \"Bancroft\",\n",
            "                \"Whiteman\",\n",
            "                \"Shaun Marsh\",\n",
            "                \"Green\",\n",
            "                \"Turner\",\n",
            "                \"Agar\",\n",
            "                \"Josh Inglis\",\n",
            "                \"Joel Paris\",\n",
            "                \"Kelly\",\n",
            "                \"Gannon\",\n",
            "                \"Lance Morris\"\n",
            "            ],\n",
            "            \"squad_bench\": [\n",
            "                \"D Arcy Short\",\n",
            "                \"Cartwright\",\n",
            "                \"Liam Guthrie\",\n",
            "                \"Rocchiccioli\",\n",
            "                \"Hardie\",\n",
            "                \"David Moody\"\n",
            "            ]\n",
            "        },\n",
            "        \"toss\": \"Western Australia elect to bat\",\n",
            "        \"type\": \"TEST\",\n",
            "        \"venue_location\": \"Adelaide, South Australia, Australia\",\n",
            "        \"venue_name\": \"Karen Rolton Oval\"\n",
            "    }\n",
            "]\n"
          ],
          "name": "stdout"
        }
      ]
    },
    {
      "cell_type": "markdown",
      "metadata": {
        "id": "ud11a-1ysaQh"
      },
      "source": [
        "Load the json data stored in a variable with the help of load function and access the json data"
      ]
    },
    {
      "cell_type": "code",
      "metadata": {
        "id": "Pefk0QCFqC12"
      },
      "source": [
        "matchdata = json.loads(matches_data)"
      ],
      "execution_count": null,
      "outputs": []
    },
    {
      "cell_type": "markdown",
      "metadata": {
        "id": "J4L7Yn1wsxhL"
      },
      "source": [
        "Check the data and the type of data present the variable after json loading"
      ]
    },
    {
      "cell_type": "code",
      "metadata": {
        "id": "qDDW8QINLOmB",
        "colab": {
          "base_uri": "https://localhost:8080/",
          "height": 72
        },
        "outputId": "891a6f67-8440-4990-8bdd-6e05b84f61fe"
      },
      "source": [
        "print(matchdata)\n",
        "print(type(matchdata))"
      ],
      "execution_count": null,
      "outputs": [
        {
          "output_type": "stream",
          "text": [
            "[{'id': '30439', 'mchstate': 'inprogress', 'mnum': '28th Match', 'official': {'referee': {'country': 'IND', 'id': '8968', 'name': 'Vengalil Narayan Kutty'}, 'umpire1': {'country': 'ENG', 'id': '5398', 'name': 'Richard Illingworth'}, 'umpire2': {'country': 'IND', 'id': '8914', 'name': 'Krishnamachari Srinivasan'}, 'umpire3': {'country': 'IND', 'id': '8871', 'name': 'KN Anantha Padmanabhan'}}, 'srs': 'Indian Premier League 2020', 'start_time': '2020-10-12 14:00:00', 'status': 'RCB opt to bat', 'team1': {'name': 'Royal Challengers Bangalore', 'squad': ['Devdutt Padikkal', 'Finch', 'Kohli', 'de Villiers', 'Washington Sundar', 'Shivam Dube', 'Chris Morris', 'Udana', 'Navdeep Saini', 'Siraj', 'Chahal'], 'squad_bench': ['Moeen Ali', 'Negi', 'Zampa', 'Pavan Deshpande', 'Philippe', 'Shahbaz Ahmed', 'U Yadav', 'Steyn', 'Parthiv Patel', 'Gurkeerat Singh']}, 'team2': {'name': 'Kolkata Knight Riders', 'squad': ['Tripathi', 'Shubman Gill', 'Nitish Rana', 'Morgan', 'Karthik', 'Tom Banton', 'Russell', 'Cummins', 'K Nagarkoti', 'Prasidh', 'Chakravarthy'], 'squad_bench': ['Kuldeep Yadav', 'Warrier', 'Lad', 'Nikhil Naik', 'Chris Green', 'Ferguson', 'Rinku Singh', 'Ali Khan', 'Shivam Mavi', 'Manimaran Siddharth', 'Narine']}, 'toss': 'Royal Challengers Bangalore elect to bat', 'type': 'T20', 'venue_location': 'Sharjah, United Arab Emirates', 'venue_name': 'Sharjah Cricket Stadium'}, {'id': '30585', 'mchstate': 'stump', 'mnum': '2nd Match', 'official': {'referee': {'country': 'AUS', 'id': '8167', 'name': 'Bob Stratford'}, 'umpire1': {'country': 'AUS', 'id': '6841', 'name': 'Bruce Oxenford'}, 'umpire2': {'country': 'AUS', 'id': '12220', 'name': 'Darren Close'}}, 'srs': 'Sheffield Shield 2020-21', 'start_time': '2020-10-10 00:00:00', 'status': 'Day 3: Stumps - TAS trail by 193 runs', 'team1': {'name': 'Queensland', 'squad': ['Burns', 'Bryce Street', 'Labuschagne', 'Khawaja', 'Renshaw', 'Peirson', 'Wildermuth', 'Neser', 'Steketee', 'Xavier Bartlett', 'Swepson'], 'squad_bench': ['Lachlan Pfeffer', 'Blake Edwards', 'Benji Floros', 'Matthew Kuhnemann']}, 'team2': {'name': 'Tasmania', 'squad': ['Silk', 'Doolan', 'Wakim', 'McDermott', 'Doran', 'Paine', 'Webster', 'Nathan Ellis', 'Siddle', 'Bird', 'Riley Meredith'], 'squad_bench': ['Tim Ward', 'Wright', 'Rainbird', 'Gabe Bell', 'Andrews']}, 'toss': 'Tasmania elect to bat', 'type': 'TEST', 'venue_location': 'Adelaide, Australia', 'venue_name': 'Park 25 No. 2'}, {'id': '30584', 'mchstate': 'stump', 'mnum': '1st Match', 'official': {'referee': {'country': 'AUS', 'id': '6913', 'name': 'Bob Parry'}, 'umpire1': {'country': 'AUS', 'id': '9472', 'name': 'Michael Graham-Smith'}, 'umpire2': {'country': 'AUS', 'id': '11056', 'name': 'Donovan Marius Koch'}}, 'srs': 'Sheffield Shield 2020-21', 'start_time': '2020-10-10 00:30:00', 'status': 'Day 3: Stumps - Western AUS lead by 362 runs', 'team1': {'name': 'South Australia', 'squad': ['Weatherald', 'Henry Hunt', 'Brad Davis', 'Head', 'Tom Cooper', 'Harry Nielsen', 'Liam Scott', 'Winter', 'Sayers', 'Wes Agar', 'Lloyd Pope'], 'squad_bench': ['Ferguson', 'Conor McInerney', 'Valente', 'Luke Robins']}, 'team2': {'name': 'Western Australia', 'squad': ['Bancroft', 'Whiteman', 'Shaun Marsh', 'Green', 'Turner', 'Agar', 'Josh Inglis', 'Joel Paris', 'Kelly', 'Gannon', 'Lance Morris'], 'squad_bench': ['D Arcy Short', 'Cartwright', 'Liam Guthrie', 'Rocchiccioli', 'Hardie', 'David Moody']}, 'toss': 'Western Australia elect to bat', 'type': 'TEST', 'venue_location': 'Adelaide, South Australia, Australia', 'venue_name': 'Karen Rolton Oval'}]\n",
            "<class 'list'>\n"
          ],
          "name": "stdout"
        }
      ]
    },
    {
      "cell_type": "markdown",
      "metadata": {
        "id": "y90w7cHwtKtw"
      },
      "source": [
        "Check the length of the data of the matches available ( no of matches)"
      ]
    },
    {
      "cell_type": "code",
      "metadata": {
        "id": "hdsVtkbpK45W",
        "colab": {
          "base_uri": "https://localhost:8080/",
          "height": 34
        },
        "outputId": "72a0c79f-8a9d-4685-a5ad-49b1d9e1fadd"
      },
      "source": [
        "print(len(matchdata))"
      ],
      "execution_count": null,
      "outputs": [
        {
          "output_type": "stream",
          "text": [
            "3\n"
          ],
          "name": "stdout"
        }
      ]
    },
    {
      "cell_type": "markdown",
      "metadata": {
        "id": "L_c_I7b7tYGd"
      },
      "source": [
        "Create a list to store all the match id of all the IPL matches"
      ]
    },
    {
      "cell_type": "code",
      "metadata": {
        "id": "K0jLsAW5jMa5"
      },
      "source": [
        "match_id_list = []"
      ],
      "execution_count": null,
      "outputs": []
    },
    {
      "cell_type": "markdown",
      "metadata": {
        "id": "VLxtTu5bjJSY"
      },
      "source": [
        "1. Iterate the list of all the matches and get the details of a match using for loop\n",
        "2. Get all the match Ids in a list and get the playing 11 of team1 and team2 \n",
        "data from the match"
      ]
    },
    {
      "cell_type": "code",
      "metadata": {
        "id": "q1GJ7__cI8Po",
        "colab": {
          "base_uri": "https://localhost:8080/",
          "height": 712
        },
        "outputId": "0c486c52-a1a2-45bb-bafd-d599046b3297"
      },
      "source": [
        "for match in matchdata:\n",
        "  \n",
        "  if match['type'] == 'T20':\n",
        "\n",
        "    print(match)\n",
        "    match_id_list.append(match['id'])\n",
        "    print(match_id_list)\n",
        "    print(type(match))\n",
        "    match_df =pd.DataFrame(match)\n",
        "    print(match_df)\n",
        "    print(type(match['team1']['squad']))\n",
        "    team1_players = match['team1']['squad']\n",
        "    team1_df = pd.DataFrame(team1_players, columns=['Players'])\n",
        "    print(team1_df)\n",
        "    team2_players = match['team2']['squad']\n",
        "    team2_df = pd.DataFrame(team2_players, columns=['Players'])\n",
        "\n",
        "    print(team2_df)\n",
        "\n",
        "  \n"
      ],
      "execution_count": null,
      "outputs": [
        {
          "output_type": "stream",
          "text": [
            "{'id': '30439', 'mchstate': 'inprogress', 'mnum': '28th Match', 'official': {'referee': {'country': 'IND', 'id': '8968', 'name': 'Vengalil Narayan Kutty'}, 'umpire1': {'country': 'ENG', 'id': '5398', 'name': 'Richard Illingworth'}, 'umpire2': {'country': 'IND', 'id': '8914', 'name': 'Krishnamachari Srinivasan'}, 'umpire3': {'country': 'IND', 'id': '8871', 'name': 'KN Anantha Padmanabhan'}}, 'srs': 'Indian Premier League 2020', 'start_time': '2020-10-12 14:00:00', 'status': 'RCB opt to bat', 'team1': {'name': 'Royal Challengers Bangalore', 'squad': ['Devdutt Padikkal', 'Finch', 'Kohli', 'de Villiers', 'Washington Sundar', 'Shivam Dube', 'Chris Morris', 'Udana', 'Navdeep Saini', 'Siraj', 'Chahal'], 'squad_bench': ['Moeen Ali', 'Negi', 'Zampa', 'Pavan Deshpande', 'Philippe', 'Shahbaz Ahmed', 'U Yadav', 'Steyn', 'Parthiv Patel', 'Gurkeerat Singh']}, 'team2': {'name': 'Kolkata Knight Riders', 'squad': ['Tripathi', 'Shubman Gill', 'Nitish Rana', 'Morgan', 'Karthik', 'Tom Banton', 'Russell', 'Cummins', 'K Nagarkoti', 'Prasidh', 'Chakravarthy'], 'squad_bench': ['Kuldeep Yadav', 'Warrier', 'Lad', 'Nikhil Naik', 'Chris Green', 'Ferguson', 'Rinku Singh', 'Ali Khan', 'Shivam Mavi', 'Manimaran Siddharth', 'Narine']}, 'toss': 'Royal Challengers Bangalore elect to bat', 'type': 'T20', 'venue_location': 'Sharjah, United Arab Emirates', 'venue_name': 'Sharjah Cricket Stadium'}\n",
            "['30439']\n",
            "<class 'dict'>\n",
            "                id  ...               venue_name\n",
            "referee      30439  ...  Sharjah Cricket Stadium\n",
            "umpire1      30439  ...  Sharjah Cricket Stadium\n",
            "umpire2      30439  ...  Sharjah Cricket Stadium\n",
            "umpire3      30439  ...  Sharjah Cricket Stadium\n",
            "name         30439  ...  Sharjah Cricket Stadium\n",
            "squad        30439  ...  Sharjah Cricket Stadium\n",
            "squad_bench  30439  ...  Sharjah Cricket Stadium\n",
            "\n",
            "[7 rows x 13 columns]\n",
            "<class 'list'>\n",
            "              Players\n",
            "0    Devdutt Padikkal\n",
            "1               Finch\n",
            "2               Kohli\n",
            "3         de Villiers\n",
            "4   Washington Sundar\n",
            "5         Shivam Dube\n",
            "6        Chris Morris\n",
            "7               Udana\n",
            "8       Navdeep Saini\n",
            "9               Siraj\n",
            "10             Chahal\n",
            "         Players\n",
            "0       Tripathi\n",
            "1   Shubman Gill\n",
            "2    Nitish Rana\n",
            "3         Morgan\n",
            "4        Karthik\n",
            "5     Tom Banton\n",
            "6        Russell\n",
            "7        Cummins\n",
            "8    K Nagarkoti\n",
            "9        Prasidh\n",
            "10  Chakravarthy\n"
          ],
          "name": "stdout"
        }
      ]
    },
    {
      "cell_type": "code",
      "metadata": {
        "id": "rR4H7A7u0rJM",
        "colab": {
          "base_uri": "https://localhost:8080/",
          "height": 377
        },
        "outputId": "08a60123-87a4-4873-ac47-79132231326e"
      },
      "source": [
        "team1_df"
      ],
      "execution_count": null,
      "outputs": [
        {
          "output_type": "execute_result",
          "data": {
            "text/html": [
              "<div>\n",
              "<style scoped>\n",
              "    .dataframe tbody tr th:only-of-type {\n",
              "        vertical-align: middle;\n",
              "    }\n",
              "\n",
              "    .dataframe tbody tr th {\n",
              "        vertical-align: top;\n",
              "    }\n",
              "\n",
              "    .dataframe thead th {\n",
              "        text-align: right;\n",
              "    }\n",
              "</style>\n",
              "<table border=\"1\" class=\"dataframe\">\n",
              "  <thead>\n",
              "    <tr style=\"text-align: right;\">\n",
              "      <th></th>\n",
              "      <th>Players</th>\n",
              "    </tr>\n",
              "  </thead>\n",
              "  <tbody>\n",
              "    <tr>\n",
              "      <th>0</th>\n",
              "      <td>Devdutt Padikkal</td>\n",
              "    </tr>\n",
              "    <tr>\n",
              "      <th>1</th>\n",
              "      <td>Finch</td>\n",
              "    </tr>\n",
              "    <tr>\n",
              "      <th>2</th>\n",
              "      <td>Kohli</td>\n",
              "    </tr>\n",
              "    <tr>\n",
              "      <th>3</th>\n",
              "      <td>de Villiers</td>\n",
              "    </tr>\n",
              "    <tr>\n",
              "      <th>4</th>\n",
              "      <td>Washington Sundar</td>\n",
              "    </tr>\n",
              "    <tr>\n",
              "      <th>5</th>\n",
              "      <td>Shivam Dube</td>\n",
              "    </tr>\n",
              "    <tr>\n",
              "      <th>6</th>\n",
              "      <td>Chris Morris</td>\n",
              "    </tr>\n",
              "    <tr>\n",
              "      <th>7</th>\n",
              "      <td>Udana</td>\n",
              "    </tr>\n",
              "    <tr>\n",
              "      <th>8</th>\n",
              "      <td>Navdeep Saini</td>\n",
              "    </tr>\n",
              "    <tr>\n",
              "      <th>9</th>\n",
              "      <td>Siraj</td>\n",
              "    </tr>\n",
              "    <tr>\n",
              "      <th>10</th>\n",
              "      <td>Chahal</td>\n",
              "    </tr>\n",
              "  </tbody>\n",
              "</table>\n",
              "</div>"
            ],
            "text/plain": [
              "              Players\n",
              "0    Devdutt Padikkal\n",
              "1               Finch\n",
              "2               Kohli\n",
              "3         de Villiers\n",
              "4   Washington Sundar\n",
              "5         Shivam Dube\n",
              "6        Chris Morris\n",
              "7               Udana\n",
              "8       Navdeep Saini\n",
              "9               Siraj\n",
              "10             Chahal"
            ]
          },
          "metadata": {
            "tags": []
          },
          "execution_count": 239
        }
      ]
    },
    {
      "cell_type": "markdown",
      "metadata": {
        "id": "hgp4sVpiwhAc"
      },
      "source": [
        "check the data present in the all the matches list"
      ]
    },
    {
      "cell_type": "code",
      "metadata": {
        "id": "SP_aN_RuKmGX",
        "colab": {
          "base_uri": "https://localhost:8080/",
          "height": 491
        },
        "outputId": "dae1eff7-dbb2-40c3-cb77-00bb4699d532"
      },
      "source": [
        "match_df"
      ],
      "execution_count": null,
      "outputs": [
        {
          "output_type": "execute_result",
          "data": {
            "text/html": [
              "<div>\n",
              "<style scoped>\n",
              "    .dataframe tbody tr th:only-of-type {\n",
              "        vertical-align: middle;\n",
              "    }\n",
              "\n",
              "    .dataframe tbody tr th {\n",
              "        vertical-align: top;\n",
              "    }\n",
              "\n",
              "    .dataframe thead th {\n",
              "        text-align: right;\n",
              "    }\n",
              "</style>\n",
              "<table border=\"1\" class=\"dataframe\">\n",
              "  <thead>\n",
              "    <tr style=\"text-align: right;\">\n",
              "      <th></th>\n",
              "      <th>id</th>\n",
              "      <th>mchstate</th>\n",
              "      <th>mnum</th>\n",
              "      <th>official</th>\n",
              "      <th>srs</th>\n",
              "      <th>start_time</th>\n",
              "      <th>status</th>\n",
              "      <th>team1</th>\n",
              "      <th>team2</th>\n",
              "      <th>toss</th>\n",
              "      <th>type</th>\n",
              "      <th>venue_location</th>\n",
              "      <th>venue_name</th>\n",
              "    </tr>\n",
              "  </thead>\n",
              "  <tbody>\n",
              "    <tr>\n",
              "      <th>referee</th>\n",
              "      <td>30439</td>\n",
              "      <td>inprogress</td>\n",
              "      <td>28th Match</td>\n",
              "      <td>{'country': 'IND', 'id': '8968', 'name': 'Veng...</td>\n",
              "      <td>Indian Premier League 2020</td>\n",
              "      <td>2020-10-12 14:00:00</td>\n",
              "      <td>RCB opt to bat</td>\n",
              "      <td>NaN</td>\n",
              "      <td>NaN</td>\n",
              "      <td>Royal Challengers Bangalore elect to bat</td>\n",
              "      <td>T20</td>\n",
              "      <td>Sharjah, United Arab Emirates</td>\n",
              "      <td>Sharjah Cricket Stadium</td>\n",
              "    </tr>\n",
              "    <tr>\n",
              "      <th>umpire1</th>\n",
              "      <td>30439</td>\n",
              "      <td>inprogress</td>\n",
              "      <td>28th Match</td>\n",
              "      <td>{'country': 'ENG', 'id': '5398', 'name': 'Rich...</td>\n",
              "      <td>Indian Premier League 2020</td>\n",
              "      <td>2020-10-12 14:00:00</td>\n",
              "      <td>RCB opt to bat</td>\n",
              "      <td>NaN</td>\n",
              "      <td>NaN</td>\n",
              "      <td>Royal Challengers Bangalore elect to bat</td>\n",
              "      <td>T20</td>\n",
              "      <td>Sharjah, United Arab Emirates</td>\n",
              "      <td>Sharjah Cricket Stadium</td>\n",
              "    </tr>\n",
              "    <tr>\n",
              "      <th>umpire2</th>\n",
              "      <td>30439</td>\n",
              "      <td>inprogress</td>\n",
              "      <td>28th Match</td>\n",
              "      <td>{'country': 'IND', 'id': '8914', 'name': 'Kris...</td>\n",
              "      <td>Indian Premier League 2020</td>\n",
              "      <td>2020-10-12 14:00:00</td>\n",
              "      <td>RCB opt to bat</td>\n",
              "      <td>NaN</td>\n",
              "      <td>NaN</td>\n",
              "      <td>Royal Challengers Bangalore elect to bat</td>\n",
              "      <td>T20</td>\n",
              "      <td>Sharjah, United Arab Emirates</td>\n",
              "      <td>Sharjah Cricket Stadium</td>\n",
              "    </tr>\n",
              "    <tr>\n",
              "      <th>umpire3</th>\n",
              "      <td>30439</td>\n",
              "      <td>inprogress</td>\n",
              "      <td>28th Match</td>\n",
              "      <td>{'country': 'IND', 'id': '8871', 'name': 'KN A...</td>\n",
              "      <td>Indian Premier League 2020</td>\n",
              "      <td>2020-10-12 14:00:00</td>\n",
              "      <td>RCB opt to bat</td>\n",
              "      <td>NaN</td>\n",
              "      <td>NaN</td>\n",
              "      <td>Royal Challengers Bangalore elect to bat</td>\n",
              "      <td>T20</td>\n",
              "      <td>Sharjah, United Arab Emirates</td>\n",
              "      <td>Sharjah Cricket Stadium</td>\n",
              "    </tr>\n",
              "    <tr>\n",
              "      <th>name</th>\n",
              "      <td>30439</td>\n",
              "      <td>inprogress</td>\n",
              "      <td>28th Match</td>\n",
              "      <td>NaN</td>\n",
              "      <td>Indian Premier League 2020</td>\n",
              "      <td>2020-10-12 14:00:00</td>\n",
              "      <td>RCB opt to bat</td>\n",
              "      <td>Royal Challengers Bangalore</td>\n",
              "      <td>Kolkata Knight Riders</td>\n",
              "      <td>Royal Challengers Bangalore elect to bat</td>\n",
              "      <td>T20</td>\n",
              "      <td>Sharjah, United Arab Emirates</td>\n",
              "      <td>Sharjah Cricket Stadium</td>\n",
              "    </tr>\n",
              "    <tr>\n",
              "      <th>squad</th>\n",
              "      <td>30439</td>\n",
              "      <td>inprogress</td>\n",
              "      <td>28th Match</td>\n",
              "      <td>NaN</td>\n",
              "      <td>Indian Premier League 2020</td>\n",
              "      <td>2020-10-12 14:00:00</td>\n",
              "      <td>RCB opt to bat</td>\n",
              "      <td>[Devdutt Padikkal, Finch, Kohli, de Villiers, ...</td>\n",
              "      <td>[Tripathi, Shubman Gill, Nitish Rana, Morgan, ...</td>\n",
              "      <td>Royal Challengers Bangalore elect to bat</td>\n",
              "      <td>T20</td>\n",
              "      <td>Sharjah, United Arab Emirates</td>\n",
              "      <td>Sharjah Cricket Stadium</td>\n",
              "    </tr>\n",
              "    <tr>\n",
              "      <th>squad_bench</th>\n",
              "      <td>30439</td>\n",
              "      <td>inprogress</td>\n",
              "      <td>28th Match</td>\n",
              "      <td>NaN</td>\n",
              "      <td>Indian Premier League 2020</td>\n",
              "      <td>2020-10-12 14:00:00</td>\n",
              "      <td>RCB opt to bat</td>\n",
              "      <td>[Moeen Ali, Negi, Zampa, Pavan Deshpande, Phil...</td>\n",
              "      <td>[Kuldeep Yadav, Warrier, Lad, Nikhil Naik, Chr...</td>\n",
              "      <td>Royal Challengers Bangalore elect to bat</td>\n",
              "      <td>T20</td>\n",
              "      <td>Sharjah, United Arab Emirates</td>\n",
              "      <td>Sharjah Cricket Stadium</td>\n",
              "    </tr>\n",
              "  </tbody>\n",
              "</table>\n",
              "</div>"
            ],
            "text/plain": [
              "                id  ...               venue_name\n",
              "referee      30439  ...  Sharjah Cricket Stadium\n",
              "umpire1      30439  ...  Sharjah Cricket Stadium\n",
              "umpire2      30439  ...  Sharjah Cricket Stadium\n",
              "umpire3      30439  ...  Sharjah Cricket Stadium\n",
              "name         30439  ...  Sharjah Cricket Stadium\n",
              "squad        30439  ...  Sharjah Cricket Stadium\n",
              "squad_bench  30439  ...  Sharjah Cricket Stadium\n",
              "\n",
              "[7 rows x 13 columns]"
            ]
          },
          "metadata": {
            "tags": []
          },
          "execution_count": 240
        }
      ]
    },
    {
      "cell_type": "markdown",
      "metadata": {
        "id": "XbM3xhjvwqjB"
      },
      "source": [
        "1. Use scorecard function to get the score card details of the match\n",
        "2. Create a function which returns the match scorecard "
      ]
    },
    {
      "cell_type": "code",
      "metadata": {
        "id": "7LI3b9U1qLY9"
      },
      "source": [
        "def scorecard(mid):\n",
        "    c = Cricbuzz()\n",
        "    score_card = c.scorecard(mid)\n",
        "    match_score_data = json.dumps(score_card,indent=4, sort_keys=True)\n",
        "    print(match_score_data)\n",
        "    match_score = json.loads(match_score_data)\n",
        "    return match_score"
      ],
      "execution_count": null,
      "outputs": []
    },
    {
      "cell_type": "markdown",
      "metadata": {
        "id": "sXy5BdwpxqkA"
      },
      "source": [
        "Call the scorecard function with match id parameter"
      ]
    },
    {
      "cell_type": "markdown",
      "metadata": {
        "id": "PEvJxK48Ht5n"
      },
      "source": [
        "30399 SRH MI\n",
        "\n",
        "30404 CSK KXIP\n",
        "\n",
        "30409 RCB DC \n",
        "\n",
        "30414 RR  MI \n",
        "\n",
        "30415 CSK KKR\n",
        "\n",
        "30419 SRH KXIP\n",
        "\n",
        "30420 DC RR\n",
        "\n",
        "30424 KXIP KKR\n",
        "\n",
        "CSK RCB\n",
        "\n",
        "SRH RR\n",
        "\n",
        "MI DC\n"
      ]
    },
    {
      "cell_type": "code",
      "metadata": {
        "id": "nOBWq-7sqvAu",
        "colab": {
          "base_uri": "https://localhost:8080/",
          "height": 1000
        },
        "outputId": "c6e52b9b-7db7-4236-cf31-00d26aa4f296"
      },
      "source": [
        " match_score_card =scorecard('30429')"
      ],
      "execution_count": null,
      "outputs": [
        {
          "output_type": "stream",
          "text": [
            "{\n",
            "    \"scorecard\": [\n",
            "        {\n",
            "            \"batcard\": [\n",
            "                {\n",
            "                    \"balls\": \"18\",\n",
            "                    \"dismissal\": \" b Washington Sundar\",\n",
            "                    \"fours\": \"3\",\n",
            "                    \"name\": \"Watson\",\n",
            "                    \"runs\": \"14\",\n",
            "                    \"six\": \"0\"\n",
            "                },\n",
            "                {\n",
            "                    \"balls\": \"10\",\n",
            "                    \"dismissal\": \"c Chris Morris b Washington Sundar\",\n",
            "                    \"fours\": \"0\",\n",
            "                    \"name\": \"du Plessis\",\n",
            "                    \"runs\": \"8\",\n",
            "                    \"six\": \"0\"\n",
            "                },\n",
            "                {\n",
            "                    \"balls\": \"40\",\n",
            "                    \"dismissal\": \" b Udana\",\n",
            "                    \"fours\": \"4\",\n",
            "                    \"name\": \"Rayudu\",\n",
            "                    \"runs\": \"42\",\n",
            "                    \"six\": \"0\"\n",
            "                },\n",
            "                {\n",
            "                    \"balls\": \"28\",\n",
            "                    \"dismissal\": \"run out (Chris Morris) \",\n",
            "                    \"fours\": \"4\",\n",
            "                    \"name\": \"N Jagadeesan\",\n",
            "                    \"runs\": \"33\",\n",
            "                    \"six\": \"0\"\n",
            "                },\n",
            "                {\n",
            "                    \"balls\": \"6\",\n",
            "                    \"dismissal\": \"c Gurkeerat Singh b Chahal\",\n",
            "                    \"fours\": \"0\",\n",
            "                    \"name\": \"Dhoni\",\n",
            "                    \"runs\": \"10\",\n",
            "                    \"six\": \"1\"\n",
            "                },\n",
            "                {\n",
            "                    \"balls\": \"1\",\n",
            "                    \"dismissal\": \"c de Villiers b Chris Morris\",\n",
            "                    \"fours\": \"0\",\n",
            "                    \"name\": \"Sam Curran\",\n",
            "                    \"runs\": \"0\",\n",
            "                    \"six\": \"0\"\n",
            "                },\n",
            "                {\n",
            "                    \"balls\": \"6\",\n",
            "                    \"dismissal\": \"c Gurkeerat Singh b Chris Morris\",\n",
            "                    \"fours\": \"1\",\n",
            "                    \"name\": \"Jadeja\",\n",
            "                    \"runs\": \"7\",\n",
            "                    \"six\": \"0\"\n",
            "                },\n",
            "                {\n",
            "                    \"balls\": \"5\",\n",
            "                    \"dismissal\": \"c Devdutt Padikkal b Chris Morris\",\n",
            "                    \"fours\": \"0\",\n",
            "                    \"name\": \"Dwayne Bravo\",\n",
            "                    \"runs\": \"7\",\n",
            "                    \"six\": \"0\"\n",
            "                },\n",
            "                {\n",
            "                    \"balls\": \"5\",\n",
            "                    \"dismissal\": \"not out\",\n",
            "                    \"fours\": \"0\",\n",
            "                    \"name\": \"Chahar\",\n",
            "                    \"runs\": \"5\",\n",
            "                    \"six\": \"0\"\n",
            "                },\n",
            "                {\n",
            "                    \"balls\": \"1\",\n",
            "                    \"dismissal\": \"not out\",\n",
            "                    \"fours\": \"0\",\n",
            "                    \"name\": \"Thakur\",\n",
            "                    \"runs\": \"1\",\n",
            "                    \"six\": \"0\"\n",
            "                }\n",
            "            ],\n",
            "            \"batteam\": \"Chennai Super Kings\",\n",
            "            \"bowlcard\": [\n",
            "                {\n",
            "                    \"maidens\": \"0\",\n",
            "                    \"name\": \"Chris Morris\",\n",
            "                    \"nballs\": \"0\",\n",
            "                    \"overs\": \"4\",\n",
            "                    \"runs\": \"19\",\n",
            "                    \"wickets\": \"3\",\n",
            "                    \"wides\": \"0\"\n",
            "                },\n",
            "                {\n",
            "                    \"maidens\": \"0\",\n",
            "                    \"name\": \"Navdeep Saini\",\n",
            "                    \"nballs\": \"0\",\n",
            "                    \"overs\": \"4\",\n",
            "                    \"runs\": \"18\",\n",
            "                    \"wickets\": \"0\",\n",
            "                    \"wides\": \"3\"\n",
            "                },\n",
            "                {\n",
            "                    \"maidens\": \"0\",\n",
            "                    \"name\": \"Udana\",\n",
            "                    \"nballs\": \"0\",\n",
            "                    \"overs\": \"4\",\n",
            "                    \"runs\": \"30\",\n",
            "                    \"wickets\": \"1\",\n",
            "                    \"wides\": \"0\"\n",
            "                },\n",
            "                {\n",
            "                    \"maidens\": \"0\",\n",
            "                    \"name\": \"Washington Sundar\",\n",
            "                    \"nballs\": \"0\",\n",
            "                    \"overs\": \"3\",\n",
            "                    \"runs\": \"16\",\n",
            "                    \"wickets\": \"2\",\n",
            "                    \"wides\": \"0\"\n",
            "                },\n",
            "                {\n",
            "                    \"maidens\": \"0\",\n",
            "                    \"name\": \"Chahal\",\n",
            "                    \"nballs\": \"0\",\n",
            "                    \"overs\": \"4\",\n",
            "                    \"runs\": \"35\",\n",
            "                    \"wickets\": \"1\",\n",
            "                    \"wides\": \"1\"\n",
            "                },\n",
            "                {\n",
            "                    \"maidens\": \"0\",\n",
            "                    \"name\": \"Shivam Dube\",\n",
            "                    \"nballs\": \"0\",\n",
            "                    \"overs\": \"1\",\n",
            "                    \"runs\": \"14\",\n",
            "                    \"wickets\": \"0\",\n",
            "                    \"wides\": \"1\"\n",
            "                }\n",
            "            ],\n",
            "            \"bowlteam\": \"Royal Challengers Bangalore\",\n",
            "            \"extras\": {\n",
            "                \"byes\": \"0\",\n",
            "                \"lbyes\": \"0\",\n",
            "                \"nballs\": \"0\",\n",
            "                \"penalty\": \"0\",\n",
            "                \"total\": \"5\",\n",
            "                \"wides\": \"5\"\n",
            "            },\n",
            "            \"fall_wickets\": [\n",
            "                {\n",
            "                    \"name\": \"du Plessis\",\n",
            "                    \"overs\": \"3.6\",\n",
            "                    \"score\": \"19\",\n",
            "                    \"wkt_num\": \"1\"\n",
            "                },\n",
            "                {\n",
            "                    \"name\": \"Watson\",\n",
            "                    \"overs\": \"5.4\",\n",
            "                    \"score\": \"25\",\n",
            "                    \"wkt_num\": \"2\"\n",
            "                },\n",
            "                {\n",
            "                    \"name\": \"N Jagadeesan\",\n",
            "                    \"overs\": \"14.2\",\n",
            "                    \"score\": \"89\",\n",
            "                    \"wkt_num\": \"3\"\n",
            "                },\n",
            "                {\n",
            "                    \"name\": \"Dhoni\",\n",
            "                    \"overs\": \"15.6\",\n",
            "                    \"score\": \"106\",\n",
            "                    \"wkt_num\": \"4\"\n",
            "                },\n",
            "                {\n",
            "                    \"name\": \"Sam Curran\",\n",
            "                    \"overs\": \"16.2\",\n",
            "                    \"score\": \"107\",\n",
            "                    \"wkt_num\": \"5\"\n",
            "                },\n",
            "                {\n",
            "                    \"name\": \"Rayudu\",\n",
            "                    \"overs\": \"17.3\",\n",
            "                    \"score\": \"113\",\n",
            "                    \"wkt_num\": \"6\"\n",
            "                },\n",
            "                {\n",
            "                    \"name\": \"Dwayne Bravo\",\n",
            "                    \"overs\": \"18.4\",\n",
            "                    \"score\": \"122\",\n",
            "                    \"wkt_num\": \"7\"\n",
            "                },\n",
            "                {\n",
            "                    \"name\": \"Jadeja\",\n",
            "                    \"overs\": \"18.6\",\n",
            "                    \"score\": \"126\",\n",
            "                    \"wkt_num\": \"8\"\n",
            "                }\n",
            "            ],\n",
            "            \"inng_num\": \"2\",\n",
            "            \"overs\": \"20\",\n",
            "            \"runs\": \"132\",\n",
            "            \"wickets\": \"8\"\n",
            "        },\n",
            "        {\n",
            "            \"batcard\": [\n",
            "                {\n",
            "                    \"balls\": \"34\",\n",
            "                    \"dismissal\": \"c du Plessis b Thakur\",\n",
            "                    \"fours\": \"2\",\n",
            "                    \"name\": \"Devdutt Padikkal\",\n",
            "                    \"runs\": \"33\",\n",
            "                    \"six\": \"1\"\n",
            "                },\n",
            "                {\n",
            "                    \"balls\": \"9\",\n",
            "                    \"dismissal\": \"b D Chahar\",\n",
            "                    \"fours\": \"0\",\n",
            "                    \"name\": \"Finch\",\n",
            "                    \"runs\": \"2\",\n",
            "                    \"six\": \"0\"\n",
            "                },\n",
            "                {\n",
            "                    \"balls\": \"52\",\n",
            "                    \"dismissal\": \"not out\",\n",
            "                    \"fours\": \"4\",\n",
            "                    \"name\": \"Kohli\",\n",
            "                    \"runs\": \"90\",\n",
            "                    \"six\": \"4\"\n",
            "                },\n",
            "                {\n",
            "                    \"balls\": \"2\",\n",
            "                    \"dismissal\": \"c Dhoni b Thakur\",\n",
            "                    \"fours\": \"0\",\n",
            "                    \"name\": \"de Villiers\",\n",
            "                    \"runs\": \"0\",\n",
            "                    \"six\": \"0\"\n",
            "                },\n",
            "                {\n",
            "                    \"balls\": \"10\",\n",
            "                    \"dismissal\": \"c Dhoni b Sam Curran\",\n",
            "                    \"fours\": \"0\",\n",
            "                    \"name\": \"Washington Sundar\",\n",
            "                    \"runs\": \"10\",\n",
            "                    \"six\": \"1\"\n",
            "                },\n",
            "                {\n",
            "                    \"balls\": \"14\",\n",
            "                    \"dismissal\": \"not out\",\n",
            "                    \"fours\": \"2\",\n",
            "                    \"name\": \"Shivam Dube\",\n",
            "                    \"runs\": \"22\",\n",
            "                    \"six\": \"1\"\n",
            "                }\n",
            "            ],\n",
            "            \"batteam\": \"Royal Challengers Bangalore\",\n",
            "            \"bowlcard\": [\n",
            "                {\n",
            "                    \"maidens\": \"0\",\n",
            "                    \"name\": \"Chahar\",\n",
            "                    \"nballs\": \"0\",\n",
            "                    \"overs\": \"3\",\n",
            "                    \"runs\": \"10\",\n",
            "                    \"wickets\": \"1\",\n",
            "                    \"wides\": \"1\"\n",
            "                },\n",
            "                {\n",
            "                    \"maidens\": \"0\",\n",
            "                    \"name\": \"Sam Curran\",\n",
            "                    \"nballs\": \"0\",\n",
            "                    \"overs\": \"4\",\n",
            "                    \"runs\": \"48\",\n",
            "                    \"wickets\": \"1\",\n",
            "                    \"wides\": \"5\"\n",
            "                },\n",
            "                {\n",
            "                    \"maidens\": \"0\",\n",
            "                    \"name\": \"Thakur\",\n",
            "                    \"nballs\": \"1\",\n",
            "                    \"overs\": \"4\",\n",
            "                    \"runs\": \"40\",\n",
            "                    \"wickets\": \"2\",\n",
            "                    \"wides\": \"1\"\n",
            "                },\n",
            "                {\n",
            "                    \"maidens\": \"0\",\n",
            "                    \"name\": \"Dwayne Bravo\",\n",
            "                    \"nballs\": \"0\",\n",
            "                    \"overs\": \"3\",\n",
            "                    \"runs\": \"29\",\n",
            "                    \"wickets\": \"0\",\n",
            "                    \"wides\": \"2\"\n",
            "                },\n",
            "                {\n",
            "                    \"maidens\": \"0\",\n",
            "                    \"name\": \"Karn Sharma\",\n",
            "                    \"nballs\": \"0\",\n",
            "                    \"overs\": \"4\",\n",
            "                    \"runs\": \"34\",\n",
            "                    \"wickets\": \"0\",\n",
            "                    \"wides\": \"1\"\n",
            "                },\n",
            "                {\n",
            "                    \"maidens\": \"0\",\n",
            "                    \"name\": \"Jadeja\",\n",
            "                    \"nballs\": \"0\",\n",
            "                    \"overs\": \"2\",\n",
            "                    \"runs\": \"7\",\n",
            "                    \"wickets\": \"0\",\n",
            "                    \"wides\": \"0\"\n",
            "                }\n",
            "            ],\n",
            "            \"bowlteam\": \"Chennai Super Kings\",\n",
            "            \"extras\": {\n",
            "                \"byes\": \"0\",\n",
            "                \"lbyes\": \"1\",\n",
            "                \"nballs\": \"1\",\n",
            "                \"penalty\": \"0\",\n",
            "                \"total\": \"12\",\n",
            "                \"wides\": \"10\"\n",
            "            },\n",
            "            \"fall_wickets\": [\n",
            "                {\n",
            "                    \"name\": \"Finch\",\n",
            "                    \"overs\": \"2.5\",\n",
            "                    \"score\": \"13\",\n",
            "                    \"wkt_num\": \"1\"\n",
            "                },\n",
            "                {\n",
            "                    \"name\": \"Devdutt Padikkal\",\n",
            "                    \"overs\": \"10.2\",\n",
            "                    \"score\": \"66\",\n",
            "                    \"wkt_num\": \"2\"\n",
            "                },\n",
            "                {\n",
            "                    \"name\": \"de Villiers\",\n",
            "                    \"overs\": \"10.5\",\n",
            "                    \"score\": \"67\",\n",
            "                    \"wkt_num\": \"3\"\n",
            "                },\n",
            "                {\n",
            "                    \"name\": \"Washington Sundar\",\n",
            "                    \"overs\": \"14.3\",\n",
            "                    \"score\": \"93\",\n",
            "                    \"wkt_num\": \"4\"\n",
            "                }\n",
            "            ],\n",
            "            \"inng_num\": \"1\",\n",
            "            \"overs\": \"20\",\n",
            "            \"runs\": \"169\",\n",
            "            \"wickets\": \"4\"\n",
            "        }\n",
            "    ]\n",
            "}\n"
          ],
          "name": "stdout"
        }
      ]
    },
    {
      "cell_type": "markdown",
      "metadata": {
        "id": "VdiWJuEbxp2-"
      },
      "source": [
        "Check the data and type of the data returned from the function"
      ]
    },
    {
      "cell_type": "code",
      "metadata": {
        "id": "IFOveLU0qyu9",
        "colab": {
          "base_uri": "https://localhost:8080/",
          "height": 72
        },
        "outputId": "3dd8a33f-14f6-4cf8-dfdc-638d0d1c342b"
      },
      "source": [
        "print(match_score_card)\n",
        "print(type(match_score_card))"
      ],
      "execution_count": null,
      "outputs": [
        {
          "output_type": "stream",
          "text": [
            "{'scorecard': [{'batcard': [{'balls': '18', 'dismissal': ' b Washington Sundar', 'fours': '3', 'name': 'Watson', 'runs': '14', 'six': '0'}, {'balls': '10', 'dismissal': 'c Chris Morris b Washington Sundar', 'fours': '0', 'name': 'du Plessis', 'runs': '8', 'six': '0'}, {'balls': '40', 'dismissal': ' b Udana', 'fours': '4', 'name': 'Rayudu', 'runs': '42', 'six': '0'}, {'balls': '28', 'dismissal': 'run out (Chris Morris) ', 'fours': '4', 'name': 'N Jagadeesan', 'runs': '33', 'six': '0'}, {'balls': '6', 'dismissal': 'c Gurkeerat Singh b Chahal', 'fours': '0', 'name': 'Dhoni', 'runs': '10', 'six': '1'}, {'balls': '1', 'dismissal': 'c de Villiers b Chris Morris', 'fours': '0', 'name': 'Sam Curran', 'runs': '0', 'six': '0'}, {'balls': '6', 'dismissal': 'c Gurkeerat Singh b Chris Morris', 'fours': '1', 'name': 'Jadeja', 'runs': '7', 'six': '0'}, {'balls': '5', 'dismissal': 'c Devdutt Padikkal b Chris Morris', 'fours': '0', 'name': 'Dwayne Bravo', 'runs': '7', 'six': '0'}, {'balls': '5', 'dismissal': 'not out', 'fours': '0', 'name': 'Chahar', 'runs': '5', 'six': '0'}, {'balls': '1', 'dismissal': 'not out', 'fours': '0', 'name': 'Thakur', 'runs': '1', 'six': '0'}], 'batteam': 'Chennai Super Kings', 'bowlcard': [{'maidens': '0', 'name': 'Chris Morris', 'nballs': '0', 'overs': '4', 'runs': '19', 'wickets': '3', 'wides': '0'}, {'maidens': '0', 'name': 'Navdeep Saini', 'nballs': '0', 'overs': '4', 'runs': '18', 'wickets': '0', 'wides': '3'}, {'maidens': '0', 'name': 'Udana', 'nballs': '0', 'overs': '4', 'runs': '30', 'wickets': '1', 'wides': '0'}, {'maidens': '0', 'name': 'Washington Sundar', 'nballs': '0', 'overs': '3', 'runs': '16', 'wickets': '2', 'wides': '0'}, {'maidens': '0', 'name': 'Chahal', 'nballs': '0', 'overs': '4', 'runs': '35', 'wickets': '1', 'wides': '1'}, {'maidens': '0', 'name': 'Shivam Dube', 'nballs': '0', 'overs': '1', 'runs': '14', 'wickets': '0', 'wides': '1'}], 'bowlteam': 'Royal Challengers Bangalore', 'extras': {'byes': '0', 'lbyes': '0', 'nballs': '0', 'penalty': '0', 'total': '5', 'wides': '5'}, 'fall_wickets': [{'name': 'du Plessis', 'overs': '3.6', 'score': '19', 'wkt_num': '1'}, {'name': 'Watson', 'overs': '5.4', 'score': '25', 'wkt_num': '2'}, {'name': 'N Jagadeesan', 'overs': '14.2', 'score': '89', 'wkt_num': '3'}, {'name': 'Dhoni', 'overs': '15.6', 'score': '106', 'wkt_num': '4'}, {'name': 'Sam Curran', 'overs': '16.2', 'score': '107', 'wkt_num': '5'}, {'name': 'Rayudu', 'overs': '17.3', 'score': '113', 'wkt_num': '6'}, {'name': 'Dwayne Bravo', 'overs': '18.4', 'score': '122', 'wkt_num': '7'}, {'name': 'Jadeja', 'overs': '18.6', 'score': '126', 'wkt_num': '8'}], 'inng_num': '2', 'overs': '20', 'runs': '132', 'wickets': '8'}, {'batcard': [{'balls': '34', 'dismissal': 'c du Plessis b Thakur', 'fours': '2', 'name': 'Devdutt Padikkal', 'runs': '33', 'six': '1'}, {'balls': '9', 'dismissal': 'b D Chahar', 'fours': '0', 'name': 'Finch', 'runs': '2', 'six': '0'}, {'balls': '52', 'dismissal': 'not out', 'fours': '4', 'name': 'Kohli', 'runs': '90', 'six': '4'}, {'balls': '2', 'dismissal': 'c Dhoni b Thakur', 'fours': '0', 'name': 'de Villiers', 'runs': '0', 'six': '0'}, {'balls': '10', 'dismissal': 'c Dhoni b Sam Curran', 'fours': '0', 'name': 'Washington Sundar', 'runs': '10', 'six': '1'}, {'balls': '14', 'dismissal': 'not out', 'fours': '2', 'name': 'Shivam Dube', 'runs': '22', 'six': '1'}], 'batteam': 'Royal Challengers Bangalore', 'bowlcard': [{'maidens': '0', 'name': 'Chahar', 'nballs': '0', 'overs': '3', 'runs': '10', 'wickets': '1', 'wides': '1'}, {'maidens': '0', 'name': 'Sam Curran', 'nballs': '0', 'overs': '4', 'runs': '48', 'wickets': '1', 'wides': '5'}, {'maidens': '0', 'name': 'Thakur', 'nballs': '1', 'overs': '4', 'runs': '40', 'wickets': '2', 'wides': '1'}, {'maidens': '0', 'name': 'Dwayne Bravo', 'nballs': '0', 'overs': '3', 'runs': '29', 'wickets': '0', 'wides': '2'}, {'maidens': '0', 'name': 'Karn Sharma', 'nballs': '0', 'overs': '4', 'runs': '34', 'wickets': '0', 'wides': '1'}, {'maidens': '0', 'name': 'Jadeja', 'nballs': '0', 'overs': '2', 'runs': '7', 'wickets': '0', 'wides': '0'}], 'bowlteam': 'Chennai Super Kings', 'extras': {'byes': '0', 'lbyes': '1', 'nballs': '1', 'penalty': '0', 'total': '12', 'wides': '10'}, 'fall_wickets': [{'name': 'Finch', 'overs': '2.5', 'score': '13', 'wkt_num': '1'}, {'name': 'Devdutt Padikkal', 'overs': '10.2', 'score': '66', 'wkt_num': '2'}, {'name': 'de Villiers', 'overs': '10.5', 'score': '67', 'wkt_num': '3'}, {'name': 'Washington Sundar', 'overs': '14.3', 'score': '93', 'wkt_num': '4'}], 'inng_num': '1', 'overs': '20', 'runs': '169', 'wickets': '4'}]}\n",
            "<class 'dict'>\n"
          ],
          "name": "stdout"
        }
      ]
    },
    {
      "cell_type": "markdown",
      "metadata": {
        "id": "pYtgK0zex-Gd"
      },
      "source": [
        "Convert the dict to DataFrame and access the series data"
      ]
    },
    {
      "cell_type": "code",
      "metadata": {
        "id": "BwVfEl-RrIgA",
        "colab": {
          "base_uri": "https://localhost:8080/",
          "height": 107
        },
        "outputId": "72e98c2c-6de0-48c4-fc26-90745a6db374"
      },
      "source": [
        "match_score_card_df = pd.DataFrame(match_score_card)\n",
        "match_score_card_df"
      ],
      "execution_count": null,
      "outputs": [
        {
          "output_type": "execute_result",
          "data": {
            "text/html": [
              "<div>\n",
              "<style scoped>\n",
              "    .dataframe tbody tr th:only-of-type {\n",
              "        vertical-align: middle;\n",
              "    }\n",
              "\n",
              "    .dataframe tbody tr th {\n",
              "        vertical-align: top;\n",
              "    }\n",
              "\n",
              "    .dataframe thead th {\n",
              "        text-align: right;\n",
              "    }\n",
              "</style>\n",
              "<table border=\"1\" class=\"dataframe\">\n",
              "  <thead>\n",
              "    <tr style=\"text-align: right;\">\n",
              "      <th></th>\n",
              "      <th>scorecard</th>\n",
              "    </tr>\n",
              "  </thead>\n",
              "  <tbody>\n",
              "    <tr>\n",
              "      <th>0</th>\n",
              "      <td>{'batcard': [{'balls': '18', 'dismissal': ' b ...</td>\n",
              "    </tr>\n",
              "    <tr>\n",
              "      <th>1</th>\n",
              "      <td>{'batcard': [{'balls': '34', 'dismissal': 'c d...</td>\n",
              "    </tr>\n",
              "  </tbody>\n",
              "</table>\n",
              "</div>"
            ],
            "text/plain": [
              "                                           scorecard\n",
              "0  {'batcard': [{'balls': '18', 'dismissal': ' b ...\n",
              "1  {'batcard': [{'balls': '34', 'dismissal': 'c d..."
            ]
          },
          "metadata": {
            "tags": []
          },
          "execution_count": 244
        }
      ]
    },
    {
      "cell_type": "markdown",
      "metadata": {
        "id": "v5w6zRyfyw6v"
      },
      "source": [
        "From the scorecard details, store the match details in each innings"
      ]
    },
    {
      "cell_type": "code",
      "metadata": {
        "id": "6J-4u7qTrVYe"
      },
      "source": [
        "match_inn_1 = match_score_card_df.iloc[0]\n",
        "match_inn_2 = match_score_card_df.iloc[1]"
      ],
      "execution_count": null,
      "outputs": []
    },
    {
      "cell_type": "markdown",
      "metadata": {
        "id": "fZGcHLdcy06-"
      },
      "source": [
        "Check the inning data and its type"
      ]
    },
    {
      "cell_type": "code",
      "metadata": {
        "id": "nbekwTUsMyvl",
        "colab": {
          "base_uri": "https://localhost:8080/",
          "height": 70
        },
        "outputId": "4928b834-6545-4f3e-e170-167854ab85d7"
      },
      "source": [
        "print(match_inn_2)\n",
        "print(type(match_inn_2))"
      ],
      "execution_count": null,
      "outputs": [
        {
          "output_type": "stream",
          "text": [
            "scorecard    {'batcard': [{'balls': '34', 'dismissal': 'c d...\n",
            "Name: 1, dtype: object\n",
            "<class 'pandas.core.series.Series'>\n"
          ],
          "name": "stdout"
        }
      ]
    },
    {
      "cell_type": "markdown",
      "metadata": {
        "id": "vgIPBokgy_KF"
      },
      "source": [
        "Get the batting scorecard of both the inning and store in dataframe"
      ]
    },
    {
      "cell_type": "code",
      "metadata": {
        "id": "QDiZhIHvrl9P"
      },
      "source": [
        "match_inn_1_bat = pd.DataFrame(match_inn_1.scorecard['batcard'])\n",
        "match_inn_2_bat = pd.DataFrame(match_inn_2.scorecard['batcard'])"
      ],
      "execution_count": null,
      "outputs": []
    },
    {
      "cell_type": "code",
      "metadata": {
        "id": "4AADJgLsuHCe",
        "colab": {
          "base_uri": "https://localhost:8080/",
          "height": 336
        },
        "outputId": "53a43b59-70f0-44de-d49f-22821762270b"
      },
      "source": [
        "print(match_inn_1_bat)\n",
        "print(match_inn_2_bat)"
      ],
      "execution_count": null,
      "outputs": [
        {
          "output_type": "stream",
          "text": [
            "  balls                           dismissal fours          name runs six\n",
            "0    18                 b Washington Sundar     3        Watson   14   0\n",
            "1    10  c Chris Morris b Washington Sundar     0    du Plessis    8   0\n",
            "2    40                             b Udana     4        Rayudu   42   0\n",
            "3    28             run out (Chris Morris)      4  N Jagadeesan   33   0\n",
            "4     6          c Gurkeerat Singh b Chahal     0         Dhoni   10   1\n",
            "5     1        c de Villiers b Chris Morris     0    Sam Curran    0   0\n",
            "6     6    c Gurkeerat Singh b Chris Morris     1        Jadeja    7   0\n",
            "7     5   c Devdutt Padikkal b Chris Morris     0  Dwayne Bravo    7   0\n",
            "8     5                             not out     0        Chahar    5   0\n",
            "9     1                             not out     0        Thakur    1   0\n",
            "  balls              dismissal fours               name runs six\n",
            "0    34  c du Plessis b Thakur     2   Devdutt Padikkal   33   1\n",
            "1     9             b D Chahar     0              Finch    2   0\n",
            "2    52                not out     4              Kohli   90   4\n",
            "3     2       c Dhoni b Thakur     0        de Villiers    0   0\n",
            "4    10   c Dhoni b Sam Curran     0  Washington Sundar   10   1\n",
            "5    14                not out     2        Shivam Dube   22   1\n"
          ],
          "name": "stdout"
        }
      ]
    },
    {
      "cell_type": "markdown",
      "metadata": {
        "id": "qwYw94dhzUx3"
      },
      "source": [
        "Get the **bowling** scorecard of both the inning and store in dataframe"
      ]
    },
    {
      "cell_type": "code",
      "metadata": {
        "id": "TpNfe_tfMo-4"
      },
      "source": [
        "match_inn_1_bowl = pd.DataFrame(match_inn_1.scorecard['bowlcard'])\n",
        "match_inn_2_bowl = pd.DataFrame(match_inn_2.scorecard['bowlcard'])"
      ],
      "execution_count": null,
      "outputs": []
    },
    {
      "cell_type": "code",
      "metadata": {
        "id": "d7XJuzqfOBwr",
        "colab": {
          "base_uri": "https://localhost:8080/",
          "height": 245
        },
        "outputId": "e982b6dd-465e-4055-e317-4496969df665"
      },
      "source": [
        "print(type(match_inn_1_bowl))\n",
        "match_inn_1_bowl"
      ],
      "execution_count": null,
      "outputs": [
        {
          "output_type": "stream",
          "text": [
            "<class 'pandas.core.frame.DataFrame'>\n"
          ],
          "name": "stdout"
        },
        {
          "output_type": "execute_result",
          "data": {
            "text/html": [
              "<div>\n",
              "<style scoped>\n",
              "    .dataframe tbody tr th:only-of-type {\n",
              "        vertical-align: middle;\n",
              "    }\n",
              "\n",
              "    .dataframe tbody tr th {\n",
              "        vertical-align: top;\n",
              "    }\n",
              "\n",
              "    .dataframe thead th {\n",
              "        text-align: right;\n",
              "    }\n",
              "</style>\n",
              "<table border=\"1\" class=\"dataframe\">\n",
              "  <thead>\n",
              "    <tr style=\"text-align: right;\">\n",
              "      <th></th>\n",
              "      <th>maidens</th>\n",
              "      <th>name</th>\n",
              "      <th>nballs</th>\n",
              "      <th>overs</th>\n",
              "      <th>runs</th>\n",
              "      <th>wickets</th>\n",
              "      <th>wides</th>\n",
              "    </tr>\n",
              "  </thead>\n",
              "  <tbody>\n",
              "    <tr>\n",
              "      <th>0</th>\n",
              "      <td>0</td>\n",
              "      <td>Chris Morris</td>\n",
              "      <td>0</td>\n",
              "      <td>4</td>\n",
              "      <td>19</td>\n",
              "      <td>3</td>\n",
              "      <td>0</td>\n",
              "    </tr>\n",
              "    <tr>\n",
              "      <th>1</th>\n",
              "      <td>0</td>\n",
              "      <td>Navdeep Saini</td>\n",
              "      <td>0</td>\n",
              "      <td>4</td>\n",
              "      <td>18</td>\n",
              "      <td>0</td>\n",
              "      <td>3</td>\n",
              "    </tr>\n",
              "    <tr>\n",
              "      <th>2</th>\n",
              "      <td>0</td>\n",
              "      <td>Udana</td>\n",
              "      <td>0</td>\n",
              "      <td>4</td>\n",
              "      <td>30</td>\n",
              "      <td>1</td>\n",
              "      <td>0</td>\n",
              "    </tr>\n",
              "    <tr>\n",
              "      <th>3</th>\n",
              "      <td>0</td>\n",
              "      <td>Washington Sundar</td>\n",
              "      <td>0</td>\n",
              "      <td>3</td>\n",
              "      <td>16</td>\n",
              "      <td>2</td>\n",
              "      <td>0</td>\n",
              "    </tr>\n",
              "    <tr>\n",
              "      <th>4</th>\n",
              "      <td>0</td>\n",
              "      <td>Chahal</td>\n",
              "      <td>0</td>\n",
              "      <td>4</td>\n",
              "      <td>35</td>\n",
              "      <td>1</td>\n",
              "      <td>1</td>\n",
              "    </tr>\n",
              "    <tr>\n",
              "      <th>5</th>\n",
              "      <td>0</td>\n",
              "      <td>Shivam Dube</td>\n",
              "      <td>0</td>\n",
              "      <td>1</td>\n",
              "      <td>14</td>\n",
              "      <td>0</td>\n",
              "      <td>1</td>\n",
              "    </tr>\n",
              "  </tbody>\n",
              "</table>\n",
              "</div>"
            ],
            "text/plain": [
              "  maidens               name nballs overs runs wickets wides\n",
              "0       0       Chris Morris      0     4   19       3     0\n",
              "1       0      Navdeep Saini      0     4   18       0     3\n",
              "2       0              Udana      0     4   30       1     0\n",
              "3       0  Washington Sundar      0     3   16       2     0\n",
              "4       0             Chahal      0     4   35       1     1\n",
              "5       0        Shivam Dube      0     1   14       0     1"
            ]
          },
          "metadata": {
            "tags": []
          },
          "execution_count": 250
        }
      ]
    },
    {
      "cell_type": "code",
      "metadata": {
        "id": "rUe6LA6MzyTu",
        "colab": {
          "base_uri": "https://localhost:8080/",
          "height": 227
        },
        "outputId": "35e52a3b-1e01-420e-c67a-39dfd21b7272"
      },
      "source": [
        "match_inn_2_bowl"
      ],
      "execution_count": null,
      "outputs": [
        {
          "output_type": "execute_result",
          "data": {
            "text/html": [
              "<div>\n",
              "<style scoped>\n",
              "    .dataframe tbody tr th:only-of-type {\n",
              "        vertical-align: middle;\n",
              "    }\n",
              "\n",
              "    .dataframe tbody tr th {\n",
              "        vertical-align: top;\n",
              "    }\n",
              "\n",
              "    .dataframe thead th {\n",
              "        text-align: right;\n",
              "    }\n",
              "</style>\n",
              "<table border=\"1\" class=\"dataframe\">\n",
              "  <thead>\n",
              "    <tr style=\"text-align: right;\">\n",
              "      <th></th>\n",
              "      <th>maidens</th>\n",
              "      <th>name</th>\n",
              "      <th>nballs</th>\n",
              "      <th>overs</th>\n",
              "      <th>runs</th>\n",
              "      <th>wickets</th>\n",
              "      <th>wides</th>\n",
              "    </tr>\n",
              "  </thead>\n",
              "  <tbody>\n",
              "    <tr>\n",
              "      <th>0</th>\n",
              "      <td>0</td>\n",
              "      <td>Chahar</td>\n",
              "      <td>0</td>\n",
              "      <td>3</td>\n",
              "      <td>10</td>\n",
              "      <td>1</td>\n",
              "      <td>1</td>\n",
              "    </tr>\n",
              "    <tr>\n",
              "      <th>1</th>\n",
              "      <td>0</td>\n",
              "      <td>Sam Curran</td>\n",
              "      <td>0</td>\n",
              "      <td>4</td>\n",
              "      <td>48</td>\n",
              "      <td>1</td>\n",
              "      <td>5</td>\n",
              "    </tr>\n",
              "    <tr>\n",
              "      <th>2</th>\n",
              "      <td>0</td>\n",
              "      <td>Thakur</td>\n",
              "      <td>1</td>\n",
              "      <td>4</td>\n",
              "      <td>40</td>\n",
              "      <td>2</td>\n",
              "      <td>1</td>\n",
              "    </tr>\n",
              "    <tr>\n",
              "      <th>3</th>\n",
              "      <td>0</td>\n",
              "      <td>Dwayne Bravo</td>\n",
              "      <td>0</td>\n",
              "      <td>3</td>\n",
              "      <td>29</td>\n",
              "      <td>0</td>\n",
              "      <td>2</td>\n",
              "    </tr>\n",
              "    <tr>\n",
              "      <th>4</th>\n",
              "      <td>0</td>\n",
              "      <td>Karn Sharma</td>\n",
              "      <td>0</td>\n",
              "      <td>4</td>\n",
              "      <td>34</td>\n",
              "      <td>0</td>\n",
              "      <td>1</td>\n",
              "    </tr>\n",
              "    <tr>\n",
              "      <th>5</th>\n",
              "      <td>0</td>\n",
              "      <td>Jadeja</td>\n",
              "      <td>0</td>\n",
              "      <td>2</td>\n",
              "      <td>7</td>\n",
              "      <td>0</td>\n",
              "      <td>0</td>\n",
              "    </tr>\n",
              "  </tbody>\n",
              "</table>\n",
              "</div>"
            ],
            "text/plain": [
              "  maidens          name nballs overs runs wickets wides\n",
              "0       0        Chahar      0     3   10       1     1\n",
              "1       0    Sam Curran      0     4   48       1     5\n",
              "2       0        Thakur      1     4   40       2     1\n",
              "3       0  Dwayne Bravo      0     3   29       0     2\n",
              "4       0   Karn Sharma      0     4   34       0     1\n",
              "5       0        Jadeja      0     2    7       0     0"
            ]
          },
          "metadata": {
            "tags": []
          },
          "execution_count": 251
        }
      ]
    },
    {
      "cell_type": "markdown",
      "metadata": {
        "id": "P9LUOjSQeg6Y"
      },
      "source": [
        "Get the points for the bowlers"
      ]
    },
    {
      "cell_type": "code",
      "metadata": {
        "id": "jL6OrfaQegRs",
        "colab": {
          "base_uri": "https://localhost:8080/",
          "height": 90
        },
        "outputId": "2eab4326-c4b9-45c7-9704-1731d1fc580d"
      },
      "source": [
        "print(type(match_inn_1.scorecard['bowlcard']))\n",
        "print(match_inn_1.scorecard['bowlcard'])\n",
        "print(len(match_inn_1.scorecard['bowlcard']))"
      ],
      "execution_count": null,
      "outputs": [
        {
          "output_type": "stream",
          "text": [
            "<class 'list'>\n",
            "[{'maidens': '0', 'name': 'Chris Morris', 'nballs': '0', 'overs': '4', 'runs': '19', 'wickets': '3', 'wides': '0'}, {'maidens': '0', 'name': 'Navdeep Saini', 'nballs': '0', 'overs': '4', 'runs': '18', 'wickets': '0', 'wides': '3'}, {'maidens': '0', 'name': 'Udana', 'nballs': '0', 'overs': '4', 'runs': '30', 'wickets': '1', 'wides': '0'}, {'maidens': '0', 'name': 'Washington Sundar', 'nballs': '0', 'overs': '3', 'runs': '16', 'wickets': '2', 'wides': '0'}, {'maidens': '0', 'name': 'Chahal', 'nballs': '0', 'overs': '4', 'runs': '35', 'wickets': '1', 'wides': '1'}, {'maidens': '0', 'name': 'Shivam Dube', 'nballs': '0', 'overs': '1', 'runs': '14', 'wickets': '0', 'wides': '1'}]\n",
            "6\n"
          ],
          "name": "stdout"
        }
      ]
    },
    {
      "cell_type": "code",
      "metadata": {
        "id": "JW_USQx6hekt",
        "colab": {
          "base_uri": "https://localhost:8080/",
          "height": 72
        },
        "outputId": "df863eed-c099-4da5-ccda-12ce8ea33caa"
      },
      "source": [
        "inng1_bowl_list = match_inn_1.scorecard['bowlcard']\n",
        "print(inng1_bowl_list)\n",
        "len_inng1_bowl_list =len(inng1_bowl_list)\n",
        "inng2_bowl_list = match_inn_2.scorecard['bowlcard']\n",
        "print(inng2_bowl_list)\n",
        "len_inng2_bowl_list =len(inng2_bowl_list)\n"
      ],
      "execution_count": null,
      "outputs": [
        {
          "output_type": "stream",
          "text": [
            "[{'maidens': '0', 'name': 'Chris Morris', 'nballs': '0', 'overs': '4', 'runs': '19', 'wickets': '3', 'wides': '0'}, {'maidens': '0', 'name': 'Navdeep Saini', 'nballs': '0', 'overs': '4', 'runs': '18', 'wickets': '0', 'wides': '3'}, {'maidens': '0', 'name': 'Udana', 'nballs': '0', 'overs': '4', 'runs': '30', 'wickets': '1', 'wides': '0'}, {'maidens': '0', 'name': 'Washington Sundar', 'nballs': '0', 'overs': '3', 'runs': '16', 'wickets': '2', 'wides': '0'}, {'maidens': '0', 'name': 'Chahal', 'nballs': '0', 'overs': '4', 'runs': '35', 'wickets': '1', 'wides': '1'}, {'maidens': '0', 'name': 'Shivam Dube', 'nballs': '0', 'overs': '1', 'runs': '14', 'wickets': '0', 'wides': '1'}]\n",
            "[{'maidens': '0', 'name': 'Chahar', 'nballs': '0', 'overs': '3', 'runs': '10', 'wickets': '1', 'wides': '1'}, {'maidens': '0', 'name': 'Sam Curran', 'nballs': '0', 'overs': '4', 'runs': '48', 'wickets': '1', 'wides': '5'}, {'maidens': '0', 'name': 'Thakur', 'nballs': '1', 'overs': '4', 'runs': '40', 'wickets': '2', 'wides': '1'}, {'maidens': '0', 'name': 'Dwayne Bravo', 'nballs': '0', 'overs': '3', 'runs': '29', 'wickets': '0', 'wides': '2'}, {'maidens': '0', 'name': 'Karn Sharma', 'nballs': '0', 'overs': '4', 'runs': '34', 'wickets': '0', 'wides': '1'}, {'maidens': '0', 'name': 'Jadeja', 'nballs': '0', 'overs': '2', 'runs': '7', 'wickets': '0', 'wides': '0'}]\n"
          ],
          "name": "stdout"
        }
      ]
    },
    {
      "cell_type": "markdown",
      "metadata": {
        "id": "ijS690d6tM29"
      },
      "source": [
        "Create a list to get all the player(bowlers) names"
      ]
    },
    {
      "cell_type": "code",
      "metadata": {
        "id": "wnXbMCRw3myK",
        "colab": {
          "base_uri": "https://localhost:8080/",
          "height": 52
        },
        "outputId": "ebf05378-7b13-4545-8a1d-5fbae7c9bd28"
      },
      "source": [
        "player_inng1_bowl_list = [inng1_bowl_list[i]['name']  for i in range(0,len_inng1_bowl_list)]\n",
        "print(player_inng1_bowl_list)\n",
        "player_inng2_bowl_list = [inng2_bowl_list[i]['name']  for i in range(0,len_inng2_bowl_list)]\n",
        "print(player_inng2_bowl_list)"
      ],
      "execution_count": null,
      "outputs": [
        {
          "output_type": "stream",
          "text": [
            "['Chris Morris', 'Navdeep Saini', 'Udana', 'Washington Sundar', 'Chahal', 'Shivam Dube']\n",
            "['Chahar', 'Sam Curran', 'Thakur', 'Dwayne Bravo', 'Karn Sharma', 'Jadeja']\n"
          ],
          "name": "stdout"
        }
      ]
    },
    {
      "cell_type": "markdown",
      "metadata": {
        "id": "7rqUumq6tSbr"
      },
      "source": [
        "Create a list to get all the points scored by taking wickets"
      ]
    },
    {
      "cell_type": "code",
      "metadata": {
        "id": "XYrcnRMyg-Hm",
        "colab": {
          "base_uri": "https://localhost:8080/",
          "height": 52
        },
        "outputId": "5a520d1f-3083-453d-ecc8-b2d6172e965f"
      },
      "source": [
        "points_inng1_bowl_list = [int(inng1_bowl_list[i]['wickets']) for i in range(0,len_inng1_bowl_list)]\n",
        "print(points_inng1_bowl_list)\n",
        "for j, item in enumerate(points_inng1_bowl_list):\n",
        "  if item >=3:\n",
        "    twice_item = item*2*20\n",
        "    points_inng1_bowl_list[j] = twice_item\n",
        "  elif item >=5:\n",
        "    thrice_item = item*3*20\n",
        "    points_inng1_bowl_list[j] = thrice_item\n",
        "  elif item < 3:\n",
        "    points_inng1_bowl_list[j] = item*20\n",
        "\n",
        "print(points_inng1_bowl_list)"
      ],
      "execution_count": null,
      "outputs": [
        {
          "output_type": "stream",
          "text": [
            "[3, 0, 1, 2, 1, 0]\n",
            "[120, 0, 20, 40, 20, 0]\n"
          ],
          "name": "stdout"
        }
      ]
    },
    {
      "cell_type": "code",
      "metadata": {
        "id": "9XQcGxiwoKE1",
        "colab": {
          "base_uri": "https://localhost:8080/",
          "height": 52
        },
        "outputId": "eb0befcb-d0c0-455f-b6d2-e963e3f8f07f"
      },
      "source": [
        "points_inng2_bowl_list = [int(inng2_bowl_list[i]['wickets']) for i in range(0,len_inng2_bowl_list)]\n",
        "print(points_inng2_bowl_list)\n",
        "for j, item in enumerate(points_inng2_bowl_list):\n",
        "  if item >=3:\n",
        "    twice_item = item*2*20\n",
        "    points_inng2_bowl_list[j] = twice_item\n",
        "  elif item >=5:\n",
        "    thrice_item = item*3*20\n",
        "    points_inng2_bowl_list[j] = thrice_item\n",
        "  elif item < 3:\n",
        "    points_inng2_bowl_list[j] = item*20\n",
        "\n",
        "print(points_inng2_bowl_list)"
      ],
      "execution_count": null,
      "outputs": [
        {
          "output_type": "stream",
          "text": [
            "[1, 1, 2, 0, 0, 0]\n",
            "[20, 20, 40, 0, 0, 0]\n"
          ],
          "name": "stdout"
        }
      ]
    },
    {
      "cell_type": "markdown",
      "metadata": {
        "id": "AwHVUkA_tdM0"
      },
      "source": [
        "Create a list to check if the bowler has given more than or equal to 45 runs, if yes, player gets minus 50 added to the points tally"
      ]
    },
    {
      "cell_type": "code",
      "metadata": {
        "id": "YKWMbpGlrvTC",
        "colab": {
          "base_uri": "https://localhost:8080/",
          "height": 52
        },
        "outputId": "1e9aacea-4b54-45c5-94fc-8398e5683925"
      },
      "source": [
        "check_points_inng1_bowl_list = [int(inng1_bowl_list[i]['runs']) for i in range(0,len_inng1_bowl_list)]\n",
        "print(check_points_inng1_bowl_list)\n",
        "for j, item in enumerate(check_points_inng1_bowl_list):\n",
        "  if item >= 45:\n",
        "    minus_item = -50\n",
        "    check_points_inng1_bowl_list[j] = minus_item\n",
        "  elif item < 45:\n",
        "    check_points_inng1_bowl_list[j] = 0\n",
        "\n",
        "print(check_points_inng1_bowl_list)"
      ],
      "execution_count": null,
      "outputs": [
        {
          "output_type": "stream",
          "text": [
            "[19, 18, 30, 16, 35, 14]\n",
            "[0, 0, 0, 0, 0, 0]\n"
          ],
          "name": "stdout"
        }
      ]
    },
    {
      "cell_type": "code",
      "metadata": {
        "id": "jOLDcfdystTn",
        "colab": {
          "base_uri": "https://localhost:8080/",
          "height": 52
        },
        "outputId": "38aa41f0-ef19-4e40-d5a3-f357597d3668"
      },
      "source": [
        "check_points_inng2_bowl_list = [int(inng2_bowl_list[i]['runs']) for i in range(0,len_inng2_bowl_list)]\n",
        "print(check_points_inng2_bowl_list)\n",
        "for j, item in enumerate(check_points_inng2_bowl_list):\n",
        "  if item >= 45:\n",
        "    minus_item = -50\n",
        "    check_points_inng2_bowl_list[j] = minus_item\n",
        "  elif item < 45:\n",
        "    check_points_inng2_bowl_list[j] = 0\n",
        "\n",
        "print(check_points_inng2_bowl_list)"
      ],
      "execution_count": null,
      "outputs": [
        {
          "output_type": "stream",
          "text": [
            "[10, 48, 40, 29, 34, 7]\n",
            "[0, -50, 0, 0, 0, 0]\n"
          ],
          "name": "stdout"
        }
      ]
    },
    {
      "cell_type": "markdown",
      "metadata": {
        "id": "XBXlCi3HtpC8"
      },
      "source": [
        "Create a list to check if the bowler has bowled maiden over, if yes, added plus 50 to the points tally per maiden"
      ]
    },
    {
      "cell_type": "code",
      "metadata": {
        "id": "zOT1q3Vvt0ez",
        "colab": {
          "base_uri": "https://localhost:8080/",
          "height": 52
        },
        "outputId": "5af5df92-2bd7-40dd-dad2-f0cc8a33a964"
      },
      "source": [
        "maiden_points_inng1_bowl_list = [int(inng1_bowl_list[i]['maidens']) for i in range(0,len_inng1_bowl_list)]\n",
        "print(maiden_points_inng1_bowl_list)\n",
        "for j, item in enumerate(maiden_points_inng1_bowl_list):\n",
        "    maiden_points_inng1_bowl_list[j] = item * 50\n",
        "\n",
        "print(maiden_points_inng1_bowl_list)"
      ],
      "execution_count": null,
      "outputs": [
        {
          "output_type": "stream",
          "text": [
            "[0, 0, 0, 0, 0, 0]\n",
            "[0, 0, 0, 0, 0, 0]\n"
          ],
          "name": "stdout"
        }
      ]
    },
    {
      "cell_type": "code",
      "metadata": {
        "id": "Xk2Wv8tV2Gie",
        "colab": {
          "base_uri": "https://localhost:8080/",
          "height": 52
        },
        "outputId": "f4cd9dbb-a7a8-4ef4-af15-bef8425f37c7"
      },
      "source": [
        "maiden_points_inng2_bowl_list = [int(inng2_bowl_list[i]['maidens']) for i in range(0,len_inng2_bowl_list)]\n",
        "print(maiden_points_inng2_bowl_list)\n",
        "for j, item in enumerate(maiden_points_inng2_bowl_list):\n",
        "    maiden_points_inng2_bowl_list[j] = item * 50\n",
        "\n",
        "print(maiden_points_inng2_bowl_list)"
      ],
      "execution_count": null,
      "outputs": [
        {
          "output_type": "stream",
          "text": [
            "[0, 0, 0, 0, 0, 0]\n",
            "[0, 0, 0, 0, 0, 0]\n"
          ],
          "name": "stdout"
        }
      ]
    },
    {
      "cell_type": "markdown",
      "metadata": {
        "id": "SrgYnr0a4sw0"
      },
      "source": [
        "Add all the points scored by the player"
      ]
    },
    {
      "cell_type": "code",
      "metadata": {
        "id": "jiCnL04G4sD6",
        "colab": {
          "base_uri": "https://localhost:8080/",
          "height": 52
        },
        "outputId": "abbbe113-6aa4-48ce-ff6f-e8784b045ff0"
      },
      "source": [
        "inng1_bowl_total_points = points_inng1_bowl_list + maiden_points_inng1_bowl_list + check_points_inng1_bowl_list\n",
        "print(inng1_bowl_total_points)\n",
        "inng1_bowl_total_points = points_inng2_bowl_list + maiden_points_inng2_bowl_list + check_points_inng2_bowl_list\n",
        "print(inng1_bowl_total_points)"
      ],
      "execution_count": null,
      "outputs": [
        {
          "output_type": "stream",
          "text": [
            "[120, 0, 20, 40, 20, 0, 0, 0, 0, 0, 0, 0, 0, 0, 0, 0, 0, 0]\n",
            "[20, 20, 40, 0, 0, 0, 0, 0, 0, 0, 0, 0, 0, -50, 0, 0, 0, 0]\n"
          ],
          "name": "stdout"
        }
      ]
    },
    {
      "cell_type": "markdown",
      "metadata": {
        "id": "ngtEBViKt1dE"
      },
      "source": [
        "Create a dict to combine all the list of the bowler player and points details"
      ]
    },
    {
      "cell_type": "code",
      "metadata": {
        "id": "wxkbyZ1EtCt9",
        "colab": {
          "base_uri": "https://localhost:8080/",
          "height": 265
        },
        "outputId": "9f530ff0-0556-452b-dc76-f60e1cff936f"
      },
      "source": [
        "inng1_bowl_points_dict = {'Players': player_inng1_bowl_list, \n",
        "        'Wicket Points': points_inng1_bowl_list,\n",
        "        'Maiden Points': maiden_points_inng1_bowl_list,\n",
        "        'Runs Points' : check_points_inng1_bowl_list\n",
        "         }  \n",
        "inng1_bowl_points_df = pd.DataFrame.from_dict(inng1_bowl_points_dict)\n",
        "print(inng1_bowl_points_df)\n",
        "\n",
        "inng2_bowl_points_dict = {'Players': player_inng2_bowl_list, \n",
        "        'Wicket Points': points_inng2_bowl_list,\n",
        "        'Maiden Points': maiden_points_inng2_bowl_list,\n",
        "        'Runs Points' : check_points_inng2_bowl_list\n",
        "         }   \n",
        "inng2_bowl_points_df = pd.DataFrame.from_dict(inng2_bowl_points_dict)\n",
        "print(inng2_bowl_points_df)"
      ],
      "execution_count": null,
      "outputs": [
        {
          "output_type": "stream",
          "text": [
            "             Players  Wicket Points  Maiden Points  Runs Points\n",
            "0       Chris Morris            120              0            0\n",
            "1      Navdeep Saini              0              0            0\n",
            "2              Udana             20              0            0\n",
            "3  Washington Sundar             40              0            0\n",
            "4             Chahal             20              0            0\n",
            "5        Shivam Dube              0              0            0\n",
            "        Players  Wicket Points  Maiden Points  Runs Points\n",
            "0        Chahar             20              0            0\n",
            "1    Sam Curran             20              0          -50\n",
            "2        Thakur             40              0            0\n",
            "3  Dwayne Bravo              0              0            0\n",
            "4   Karn Sharma              0              0            0\n",
            "5        Jadeja              0              0            0\n"
          ],
          "name": "stdout"
        }
      ]
    },
    {
      "cell_type": "markdown",
      "metadata": {
        "id": "L18PjzNX7Gol"
      },
      "source": [
        "Calculate Total points using data from dataframe"
      ]
    },
    {
      "cell_type": "code",
      "metadata": {
        "id": "-Oz3RuTI7F-a"
      },
      "source": [
        "inng1_bowl_points_df['Points'] = inng1_bowl_points_df['Wicket Points'] + inng1_bowl_points_df['Maiden Points'] + inng1_bowl_points_df['Runs Points']"
      ],
      "execution_count": null,
      "outputs": []
    },
    {
      "cell_type": "code",
      "metadata": {
        "id": "fMqlyavb7qdX",
        "colab": {
          "base_uri": "https://localhost:8080/",
          "height": 227
        },
        "outputId": "1d5e8dd9-fac8-4d3e-9b49-a972f24f4f7a"
      },
      "source": [
        "inng1_bowl_points_df"
      ],
      "execution_count": null,
      "outputs": [
        {
          "output_type": "execute_result",
          "data": {
            "text/html": [
              "<div>\n",
              "<style scoped>\n",
              "    .dataframe tbody tr th:only-of-type {\n",
              "        vertical-align: middle;\n",
              "    }\n",
              "\n",
              "    .dataframe tbody tr th {\n",
              "        vertical-align: top;\n",
              "    }\n",
              "\n",
              "    .dataframe thead th {\n",
              "        text-align: right;\n",
              "    }\n",
              "</style>\n",
              "<table border=\"1\" class=\"dataframe\">\n",
              "  <thead>\n",
              "    <tr style=\"text-align: right;\">\n",
              "      <th></th>\n",
              "      <th>Players</th>\n",
              "      <th>Wicket Points</th>\n",
              "      <th>Maiden Points</th>\n",
              "      <th>Runs Points</th>\n",
              "      <th>Points</th>\n",
              "    </tr>\n",
              "  </thead>\n",
              "  <tbody>\n",
              "    <tr>\n",
              "      <th>0</th>\n",
              "      <td>Chris Morris</td>\n",
              "      <td>120</td>\n",
              "      <td>0</td>\n",
              "      <td>0</td>\n",
              "      <td>120</td>\n",
              "    </tr>\n",
              "    <tr>\n",
              "      <th>1</th>\n",
              "      <td>Navdeep Saini</td>\n",
              "      <td>0</td>\n",
              "      <td>0</td>\n",
              "      <td>0</td>\n",
              "      <td>0</td>\n",
              "    </tr>\n",
              "    <tr>\n",
              "      <th>2</th>\n",
              "      <td>Udana</td>\n",
              "      <td>20</td>\n",
              "      <td>0</td>\n",
              "      <td>0</td>\n",
              "      <td>20</td>\n",
              "    </tr>\n",
              "    <tr>\n",
              "      <th>3</th>\n",
              "      <td>Washington Sundar</td>\n",
              "      <td>40</td>\n",
              "      <td>0</td>\n",
              "      <td>0</td>\n",
              "      <td>40</td>\n",
              "    </tr>\n",
              "    <tr>\n",
              "      <th>4</th>\n",
              "      <td>Chahal</td>\n",
              "      <td>20</td>\n",
              "      <td>0</td>\n",
              "      <td>0</td>\n",
              "      <td>20</td>\n",
              "    </tr>\n",
              "    <tr>\n",
              "      <th>5</th>\n",
              "      <td>Shivam Dube</td>\n",
              "      <td>0</td>\n",
              "      <td>0</td>\n",
              "      <td>0</td>\n",
              "      <td>0</td>\n",
              "    </tr>\n",
              "  </tbody>\n",
              "</table>\n",
              "</div>"
            ],
            "text/plain": [
              "             Players  Wicket Points  Maiden Points  Runs Points  Points\n",
              "0       Chris Morris            120              0            0     120\n",
              "1      Navdeep Saini              0              0            0       0\n",
              "2              Udana             20              0            0      20\n",
              "3  Washington Sundar             40              0            0      40\n",
              "4             Chahal             20              0            0      20\n",
              "5        Shivam Dube              0              0            0       0"
            ]
          },
          "metadata": {
            "tags": []
          },
          "execution_count": 264
        }
      ]
    },
    {
      "cell_type": "code",
      "metadata": {
        "id": "i1Up8R5l7w7B"
      },
      "source": [
        "inng2_bowl_points_df['Points'] = inng2_bowl_points_df['Wicket Points'] + inng2_bowl_points_df['Maiden Points'] + inng2_bowl_points_df['Runs Points']"
      ],
      "execution_count": null,
      "outputs": []
    },
    {
      "cell_type": "code",
      "metadata": {
        "id": "VUiTbtBL7x92",
        "colab": {
          "base_uri": "https://localhost:8080/",
          "height": 227
        },
        "outputId": "9dafb101-ea1d-409b-8f7e-f7a6a9eb0930"
      },
      "source": [
        "inng2_bowl_points_df"
      ],
      "execution_count": null,
      "outputs": [
        {
          "output_type": "execute_result",
          "data": {
            "text/html": [
              "<div>\n",
              "<style scoped>\n",
              "    .dataframe tbody tr th:only-of-type {\n",
              "        vertical-align: middle;\n",
              "    }\n",
              "\n",
              "    .dataframe tbody tr th {\n",
              "        vertical-align: top;\n",
              "    }\n",
              "\n",
              "    .dataframe thead th {\n",
              "        text-align: right;\n",
              "    }\n",
              "</style>\n",
              "<table border=\"1\" class=\"dataframe\">\n",
              "  <thead>\n",
              "    <tr style=\"text-align: right;\">\n",
              "      <th></th>\n",
              "      <th>Players</th>\n",
              "      <th>Wicket Points</th>\n",
              "      <th>Maiden Points</th>\n",
              "      <th>Runs Points</th>\n",
              "      <th>Points</th>\n",
              "    </tr>\n",
              "  </thead>\n",
              "  <tbody>\n",
              "    <tr>\n",
              "      <th>0</th>\n",
              "      <td>Chahar</td>\n",
              "      <td>20</td>\n",
              "      <td>0</td>\n",
              "      <td>0</td>\n",
              "      <td>20</td>\n",
              "    </tr>\n",
              "    <tr>\n",
              "      <th>1</th>\n",
              "      <td>Sam Curran</td>\n",
              "      <td>20</td>\n",
              "      <td>0</td>\n",
              "      <td>-50</td>\n",
              "      <td>-30</td>\n",
              "    </tr>\n",
              "    <tr>\n",
              "      <th>2</th>\n",
              "      <td>Thakur</td>\n",
              "      <td>40</td>\n",
              "      <td>0</td>\n",
              "      <td>0</td>\n",
              "      <td>40</td>\n",
              "    </tr>\n",
              "    <tr>\n",
              "      <th>3</th>\n",
              "      <td>Dwayne Bravo</td>\n",
              "      <td>0</td>\n",
              "      <td>0</td>\n",
              "      <td>0</td>\n",
              "      <td>0</td>\n",
              "    </tr>\n",
              "    <tr>\n",
              "      <th>4</th>\n",
              "      <td>Karn Sharma</td>\n",
              "      <td>0</td>\n",
              "      <td>0</td>\n",
              "      <td>0</td>\n",
              "      <td>0</td>\n",
              "    </tr>\n",
              "    <tr>\n",
              "      <th>5</th>\n",
              "      <td>Jadeja</td>\n",
              "      <td>0</td>\n",
              "      <td>0</td>\n",
              "      <td>0</td>\n",
              "      <td>0</td>\n",
              "    </tr>\n",
              "  </tbody>\n",
              "</table>\n",
              "</div>"
            ],
            "text/plain": [
              "        Players  Wicket Points  Maiden Points  Runs Points  Points\n",
              "0        Chahar             20              0            0      20\n",
              "1    Sam Curran             20              0          -50     -30\n",
              "2        Thakur             40              0            0      40\n",
              "3  Dwayne Bravo              0              0            0       0\n",
              "4   Karn Sharma              0              0            0       0\n",
              "5        Jadeja              0              0            0       0"
            ]
          },
          "metadata": {
            "tags": []
          },
          "execution_count": 266
        }
      ]
    },
    {
      "cell_type": "code",
      "metadata": {
        "id": "2zc6R9RqkqOr"
      },
      "source": [
        "inng1_bowl_points_calc_df = inng1_bowl_points_df[['Players', 'Points']]"
      ],
      "execution_count": null,
      "outputs": []
    },
    {
      "cell_type": "code",
      "metadata": {
        "id": "35quQ87Zk3QL"
      },
      "source": [
        "inng2_bow2_points_calc_df = inng2_bowl_points_df[['Players', 'Points']]"
      ],
      "execution_count": null,
      "outputs": []
    },
    {
      "cell_type": "code",
      "metadata": {
        "id": "KjguhORJuFFh",
        "colab": {
          "base_uri": "https://localhost:8080/",
          "height": 227
        },
        "outputId": "6e63d45d-4b53-417a-cf24-9173e794d2ba"
      },
      "source": [
        "inng1_bowl_points_calc_df"
      ],
      "execution_count": null,
      "outputs": [
        {
          "output_type": "execute_result",
          "data": {
            "text/html": [
              "<div>\n",
              "<style scoped>\n",
              "    .dataframe tbody tr th:only-of-type {\n",
              "        vertical-align: middle;\n",
              "    }\n",
              "\n",
              "    .dataframe tbody tr th {\n",
              "        vertical-align: top;\n",
              "    }\n",
              "\n",
              "    .dataframe thead th {\n",
              "        text-align: right;\n",
              "    }\n",
              "</style>\n",
              "<table border=\"1\" class=\"dataframe\">\n",
              "  <thead>\n",
              "    <tr style=\"text-align: right;\">\n",
              "      <th></th>\n",
              "      <th>Players</th>\n",
              "      <th>Points</th>\n",
              "    </tr>\n",
              "  </thead>\n",
              "  <tbody>\n",
              "    <tr>\n",
              "      <th>0</th>\n",
              "      <td>Chris Morris</td>\n",
              "      <td>120</td>\n",
              "    </tr>\n",
              "    <tr>\n",
              "      <th>1</th>\n",
              "      <td>Navdeep Saini</td>\n",
              "      <td>0</td>\n",
              "    </tr>\n",
              "    <tr>\n",
              "      <th>2</th>\n",
              "      <td>Udana</td>\n",
              "      <td>20</td>\n",
              "    </tr>\n",
              "    <tr>\n",
              "      <th>3</th>\n",
              "      <td>Washington Sundar</td>\n",
              "      <td>40</td>\n",
              "    </tr>\n",
              "    <tr>\n",
              "      <th>4</th>\n",
              "      <td>Chahal</td>\n",
              "      <td>20</td>\n",
              "    </tr>\n",
              "    <tr>\n",
              "      <th>5</th>\n",
              "      <td>Shivam Dube</td>\n",
              "      <td>0</td>\n",
              "    </tr>\n",
              "  </tbody>\n",
              "</table>\n",
              "</div>"
            ],
            "text/plain": [
              "             Players  Points\n",
              "0       Chris Morris     120\n",
              "1      Navdeep Saini       0\n",
              "2              Udana      20\n",
              "3  Washington Sundar      40\n",
              "4             Chahal      20\n",
              "5        Shivam Dube       0"
            ]
          },
          "metadata": {
            "tags": []
          },
          "execution_count": 269
        }
      ]
    },
    {
      "cell_type": "code",
      "metadata": {
        "id": "DLiQFLJHuI-M",
        "colab": {
          "base_uri": "https://localhost:8080/",
          "height": 227
        },
        "outputId": "ebd830ca-bb5e-4e0b-bfb3-b98a69a74e9a"
      },
      "source": [
        "inng2_bow2_points_calc_df"
      ],
      "execution_count": null,
      "outputs": [
        {
          "output_type": "execute_result",
          "data": {
            "text/html": [
              "<div>\n",
              "<style scoped>\n",
              "    .dataframe tbody tr th:only-of-type {\n",
              "        vertical-align: middle;\n",
              "    }\n",
              "\n",
              "    .dataframe tbody tr th {\n",
              "        vertical-align: top;\n",
              "    }\n",
              "\n",
              "    .dataframe thead th {\n",
              "        text-align: right;\n",
              "    }\n",
              "</style>\n",
              "<table border=\"1\" class=\"dataframe\">\n",
              "  <thead>\n",
              "    <tr style=\"text-align: right;\">\n",
              "      <th></th>\n",
              "      <th>Players</th>\n",
              "      <th>Points</th>\n",
              "    </tr>\n",
              "  </thead>\n",
              "  <tbody>\n",
              "    <tr>\n",
              "      <th>0</th>\n",
              "      <td>Chahar</td>\n",
              "      <td>20</td>\n",
              "    </tr>\n",
              "    <tr>\n",
              "      <th>1</th>\n",
              "      <td>Sam Curran</td>\n",
              "      <td>-30</td>\n",
              "    </tr>\n",
              "    <tr>\n",
              "      <th>2</th>\n",
              "      <td>Thakur</td>\n",
              "      <td>40</td>\n",
              "    </tr>\n",
              "    <tr>\n",
              "      <th>3</th>\n",
              "      <td>Dwayne Bravo</td>\n",
              "      <td>0</td>\n",
              "    </tr>\n",
              "    <tr>\n",
              "      <th>4</th>\n",
              "      <td>Karn Sharma</td>\n",
              "      <td>0</td>\n",
              "    </tr>\n",
              "    <tr>\n",
              "      <th>5</th>\n",
              "      <td>Jadeja</td>\n",
              "      <td>0</td>\n",
              "    </tr>\n",
              "  </tbody>\n",
              "</table>\n",
              "</div>"
            ],
            "text/plain": [
              "        Players  Points\n",
              "0        Chahar      20\n",
              "1    Sam Curran     -30\n",
              "2        Thakur      40\n",
              "3  Dwayne Bravo       0\n",
              "4   Karn Sharma       0\n",
              "5        Jadeja       0"
            ]
          },
          "metadata": {
            "tags": []
          },
          "execution_count": 270
        }
      ]
    },
    {
      "cell_type": "markdown",
      "metadata": {
        "id": "vyF_Sz3Zz7lE"
      },
      "source": [
        "Convert the runs string to int to calculate the points"
      ]
    },
    {
      "cell_type": "code",
      "metadata": {
        "id": "jpjT9ON1V4j_"
      },
      "source": [
        "match_inn_1_bat['runs'] = pd.to_numeric(match_inn_1_bat['runs'])\n",
        "match_inn_2_bat['runs'] = pd.to_numeric(match_inn_2_bat['runs'])"
      ],
      "execution_count": null,
      "outputs": []
    },
    {
      "cell_type": "markdown",
      "metadata": {
        "id": "YqJonSgd0Frk"
      },
      "source": [
        "Iterate team 1 and team 2 squad data frame to access the player"
      ]
    },
    {
      "cell_type": "code",
      "metadata": {
        "id": "AglONlC2491C",
        "colab": {
          "base_uri": "https://localhost:8080/",
          "height": 52
        },
        "outputId": "b68c25c2-caab-4915-f607-bf09f7ee274c"
      },
      "source": [
        "players_inng1 = [ i for i in match_inn_1_bat['name']]\n",
        "print(players_inng1)\n",
        "players_inng2 = [ i for i in match_inn_2_bat['name']]\n",
        "print(players_inng2)"
      ],
      "execution_count": null,
      "outputs": [
        {
          "output_type": "stream",
          "text": [
            "['Watson', 'du Plessis', 'Rayudu', 'N Jagadeesan', 'Dhoni', 'Sam Curran', 'Jadeja', 'Dwayne Bravo', 'Chahar', 'Thakur']\n",
            "['Devdutt Padikkal', 'Finch', 'Kohli', 'de Villiers', 'Washington Sundar', 'Shivam Dube']\n"
          ],
          "name": "stdout"
        }
      ]
    },
    {
      "cell_type": "code",
      "metadata": {
        "id": "5xBIqBK1xQ6I",
        "colab": {
          "base_uri": "https://localhost:8080/",
          "height": 52
        },
        "outputId": "199f42a4-ebaa-4d30-e23e-88c943358853"
      },
      "source": [
        "runs_inng1 = [ int(i) for i in match_inn_1_bat['runs']]\n",
        "print(runs_inng1)\n",
        "runs_inng2 = [ int(i) for i in match_inn_2_bat['runs']]\n",
        "print(runs_inng2)"
      ],
      "execution_count": null,
      "outputs": [
        {
          "output_type": "stream",
          "text": [
            "[14, 8, 42, 33, 10, 0, 7, 7, 5, 1]\n",
            "[33, 2, 90, 0, 10, 22]\n"
          ],
          "name": "stdout"
        }
      ]
    },
    {
      "cell_type": "markdown",
      "metadata": {
        "id": "LGY4glwRTfVJ"
      },
      "source": [
        "Calculate the points for the runs scored in the first innings"
      ]
    },
    {
      "cell_type": "code",
      "metadata": {
        "id": "6zsGBKjrraKP",
        "colab": {
          "base_uri": "https://localhost:8080/",
          "height": 34
        },
        "outputId": "00087810-4ad9-4871-faba-bfac89bbe954"
      },
      "source": [
        "points_inng1 = []\n",
        "for i in runs_inng1:\n",
        "\n",
        "  #Convert runs to points\n",
        "  if i < 50 and i >= 0:\n",
        "    points_inng1.append(i)\n",
        "  elif i >= 50 and i<= 100:\n",
        "    points_inng1.append(i*2)\n",
        "  elif i > 100:\n",
        "    points_inng1.append(i*3)\n",
        "\n",
        "\n",
        "print(points_inng1)\n"
      ],
      "execution_count": null,
      "outputs": [
        {
          "output_type": "stream",
          "text": [
            "[14, 8, 42, 33, 10, 0, 7, 7, 5, 1]\n"
          ],
          "name": "stdout"
        }
      ]
    },
    {
      "cell_type": "markdown",
      "metadata": {
        "id": "pl8GrrJZqLnB"
      },
      "source": [
        "Iterate throught the list to get the player out on zero and assign minus 50"
      ]
    },
    {
      "cell_type": "code",
      "metadata": {
        "id": "zTZ7owT7qKw5"
      },
      "source": [
        ""
      ],
      "execution_count": null,
      "outputs": []
    },
    {
      "cell_type": "markdown",
      "metadata": {
        "id": "VpLbgDwucWYN"
      },
      "source": [
        "Calculate the points for the runs scored in the **second** innings"
      ]
    },
    {
      "cell_type": "code",
      "metadata": {
        "id": "PN7KA0rvTnlP",
        "colab": {
          "base_uri": "https://localhost:8080/",
          "height": 34
        },
        "outputId": "6b607e0c-182c-4e6e-b40b-ce05aced838b"
      },
      "source": [
        "points_inng2 = []\n",
        "for i in runs_inng2:\n",
        "\n",
        "  #Convert runs to points\n",
        "  if i < 50 and i >= 0:\n",
        "    points_inng2.append(i)\n",
        "  elif i > 50 and i<= 100:\n",
        "    points_inng2.append(i*2)\n",
        "  elif i > 100:\n",
        "    points_inng2.append(i*3)\n",
        "\n",
        "print(points_inng2)\n"
      ],
      "execution_count": null,
      "outputs": [
        {
          "output_type": "stream",
          "text": [
            "[33, 2, 180, 0, 10, 22]\n"
          ],
          "name": "stdout"
        }
      ]
    },
    {
      "cell_type": "markdown",
      "metadata": {
        "id": "AzLLws1kVnZQ"
      },
      "source": [
        "Create dict for the match by combining player and the points scored"
      ]
    },
    {
      "cell_type": "code",
      "metadata": {
        "id": "yooFFn32aokQ",
        "colab": {
          "base_uri": "https://localhost:8080/",
          "height": 54
        },
        "outputId": "04d10dd5-5eae-40ca-80f8-920b71ec9a73"
      },
      "source": [
        "inng1_bat_points_dict = {'Players': players_inng1, \n",
        "        'Points': points_inng1}  \n",
        "print(inng1_bat_points_dict)\n",
        "inng1_bat_points_df = pd.DataFrame.from_dict(inng1_bat_points_dict)\n",
        "inng2_bat_points_dict = {'Players': players_inng2, \n",
        "        'Points': points_inng2}\n",
        "inng2_bat_points_df = pd.DataFrame.from_dict(inng2_bat_points_dict)"
      ],
      "execution_count": null,
      "outputs": [
        {
          "output_type": "stream",
          "text": [
            "{'Players': ['Watson', 'du Plessis', 'Rayudu', 'N Jagadeesan', 'Dhoni', 'Sam Curran', 'Jadeja', 'Dwayne Bravo', 'Chahar', 'Thakur'], 'Points': [14, 8, 42, 33, 10, 0, 7, 7, 5, 1]}\n"
          ],
          "name": "stdout"
        }
      ]
    },
    {
      "cell_type": "code",
      "metadata": {
        "id": "yFiDFKEFbrtd",
        "colab": {
          "base_uri": "https://localhost:8080/",
          "height": 347
        },
        "outputId": "40c1d341-2f8f-4fe8-ae75-bb180a1f4863"
      },
      "source": [
        "inng1_bat_points_df"
      ],
      "execution_count": null,
      "outputs": [
        {
          "output_type": "execute_result",
          "data": {
            "text/html": [
              "<div>\n",
              "<style scoped>\n",
              "    .dataframe tbody tr th:only-of-type {\n",
              "        vertical-align: middle;\n",
              "    }\n",
              "\n",
              "    .dataframe tbody tr th {\n",
              "        vertical-align: top;\n",
              "    }\n",
              "\n",
              "    .dataframe thead th {\n",
              "        text-align: right;\n",
              "    }\n",
              "</style>\n",
              "<table border=\"1\" class=\"dataframe\">\n",
              "  <thead>\n",
              "    <tr style=\"text-align: right;\">\n",
              "      <th></th>\n",
              "      <th>Players</th>\n",
              "      <th>Points</th>\n",
              "    </tr>\n",
              "  </thead>\n",
              "  <tbody>\n",
              "    <tr>\n",
              "      <th>0</th>\n",
              "      <td>Watson</td>\n",
              "      <td>14</td>\n",
              "    </tr>\n",
              "    <tr>\n",
              "      <th>1</th>\n",
              "      <td>du Plessis</td>\n",
              "      <td>8</td>\n",
              "    </tr>\n",
              "    <tr>\n",
              "      <th>2</th>\n",
              "      <td>Rayudu</td>\n",
              "      <td>42</td>\n",
              "    </tr>\n",
              "    <tr>\n",
              "      <th>3</th>\n",
              "      <td>N Jagadeesan</td>\n",
              "      <td>33</td>\n",
              "    </tr>\n",
              "    <tr>\n",
              "      <th>4</th>\n",
              "      <td>Dhoni</td>\n",
              "      <td>10</td>\n",
              "    </tr>\n",
              "    <tr>\n",
              "      <th>5</th>\n",
              "      <td>Sam Curran</td>\n",
              "      <td>0</td>\n",
              "    </tr>\n",
              "    <tr>\n",
              "      <th>6</th>\n",
              "      <td>Jadeja</td>\n",
              "      <td>7</td>\n",
              "    </tr>\n",
              "    <tr>\n",
              "      <th>7</th>\n",
              "      <td>Dwayne Bravo</td>\n",
              "      <td>7</td>\n",
              "    </tr>\n",
              "    <tr>\n",
              "      <th>8</th>\n",
              "      <td>Chahar</td>\n",
              "      <td>5</td>\n",
              "    </tr>\n",
              "    <tr>\n",
              "      <th>9</th>\n",
              "      <td>Thakur</td>\n",
              "      <td>1</td>\n",
              "    </tr>\n",
              "  </tbody>\n",
              "</table>\n",
              "</div>"
            ],
            "text/plain": [
              "        Players  Points\n",
              "0        Watson      14\n",
              "1    du Plessis       8\n",
              "2        Rayudu      42\n",
              "3  N Jagadeesan      33\n",
              "4         Dhoni      10\n",
              "5    Sam Curran       0\n",
              "6        Jadeja       7\n",
              "7  Dwayne Bravo       7\n",
              "8        Chahar       5\n",
              "9        Thakur       1"
            ]
          },
          "metadata": {
            "tags": []
          },
          "execution_count": 277
        }
      ]
    },
    {
      "cell_type": "code",
      "metadata": {
        "id": "8wBuFtrabHSs",
        "colab": {
          "base_uri": "https://localhost:8080/",
          "height": 227
        },
        "outputId": "19b7ff43-7ea7-4de4-e342-2ba08c23c13e"
      },
      "source": [
        "inng2_bat_points_df"
      ],
      "execution_count": null,
      "outputs": [
        {
          "output_type": "execute_result",
          "data": {
            "text/html": [
              "<div>\n",
              "<style scoped>\n",
              "    .dataframe tbody tr th:only-of-type {\n",
              "        vertical-align: middle;\n",
              "    }\n",
              "\n",
              "    .dataframe tbody tr th {\n",
              "        vertical-align: top;\n",
              "    }\n",
              "\n",
              "    .dataframe thead th {\n",
              "        text-align: right;\n",
              "    }\n",
              "</style>\n",
              "<table border=\"1\" class=\"dataframe\">\n",
              "  <thead>\n",
              "    <tr style=\"text-align: right;\">\n",
              "      <th></th>\n",
              "      <th>Players</th>\n",
              "      <th>Points</th>\n",
              "    </tr>\n",
              "  </thead>\n",
              "  <tbody>\n",
              "    <tr>\n",
              "      <th>0</th>\n",
              "      <td>Devdutt Padikkal</td>\n",
              "      <td>33</td>\n",
              "    </tr>\n",
              "    <tr>\n",
              "      <th>1</th>\n",
              "      <td>Finch</td>\n",
              "      <td>2</td>\n",
              "    </tr>\n",
              "    <tr>\n",
              "      <th>2</th>\n",
              "      <td>Kohli</td>\n",
              "      <td>180</td>\n",
              "    </tr>\n",
              "    <tr>\n",
              "      <th>3</th>\n",
              "      <td>de Villiers</td>\n",
              "      <td>0</td>\n",
              "    </tr>\n",
              "    <tr>\n",
              "      <th>4</th>\n",
              "      <td>Washington Sundar</td>\n",
              "      <td>10</td>\n",
              "    </tr>\n",
              "    <tr>\n",
              "      <th>5</th>\n",
              "      <td>Shivam Dube</td>\n",
              "      <td>22</td>\n",
              "    </tr>\n",
              "  </tbody>\n",
              "</table>\n",
              "</div>"
            ],
            "text/plain": [
              "             Players  Points\n",
              "0   Devdutt Padikkal      33\n",
              "1              Finch       2\n",
              "2              Kohli     180\n",
              "3        de Villiers       0\n",
              "4  Washington Sundar      10\n",
              "5        Shivam Dube      22"
            ]
          },
          "metadata": {
            "tags": []
          },
          "execution_count": 278
        }
      ]
    },
    {
      "cell_type": "markdown",
      "metadata": {
        "id": "YbEPvNAN9Tb3"
      },
      "source": [
        "Calculate the points for the fielders from the Dismissal field"
      ]
    },
    {
      "cell_type": "markdown",
      "metadata": {
        "id": "O4Y_Ouz7iyAs"
      },
      "source": [
        "Calculate the points for the dismissal with caught having player name stored in list, sub player name and caught and bowled stored in the list as well"
      ]
    },
    {
      "cell_type": "code",
      "metadata": {
        "id": "FXaM8hRF_Gsa"
      },
      "source": [
        "def get_c_player_name(c_df):\n",
        "    if c_df[0] == 'c':\n",
        "      index_b = c_df.find(' b ')\n",
        "      \n",
        "      #print(type(index_b))\n",
        "      #print(index_b)\n",
        "      c_player_name = c_df[2:index_b]\n",
        "      c_n_b = c_df[index_b + 3:]\n",
        "      if c_player_name.startswith('('):\n",
        "        #print('sub player is {}'.format(c_player_name))\n",
        "        c_player_name_list.append(c_player_name[5:])\n",
        "      elif c_player_name.startswith('and'):\n",
        "        c_player_name_list.append(c_n_b)\n",
        "      elif c_player_name.startswith('&'):\n",
        "        c_player_name_list.append(c_n_b)\n",
        "\n",
        "      else:  \n",
        "        c_player_name_list.append(c_player_name)\n",
        "    \n",
        "    return c_player_name_list  \n"
      ],
      "execution_count": null,
      "outputs": []
    },
    {
      "cell_type": "markdown",
      "metadata": {
        "id": "j840pfHSnj3F"
      },
      "source": [
        "Function for calculating stumping points"
      ]
    },
    {
      "cell_type": "code",
      "metadata": {
        "id": "wP3nL8rOnqya"
      },
      "source": [
        "def get_s_player_name(c_df):\n",
        "    if c_df[0] == 's':\n",
        "      index_s = c_df.find(' b ')\n",
        "      s_player_name = c_df[3:index_s]\n",
        "      s_player_name_list.append(s_player_name)\n",
        "      \n",
        "    return s_player_name_list"
      ],
      "execution_count": null,
      "outputs": []
    },
    {
      "cell_type": "code",
      "metadata": {
        "id": "eTkV5BWk9ZVA",
        "colab": {
          "base_uri": "https://localhost:8080/",
          "height": 338
        },
        "outputId": "953ba4dd-ffce-4c69-d250-06560a59b91e"
      },
      "source": [
        "inng1_dismissal_points = [i for i in match_inn_1_bat['dismissal'] if i.strip() != 'not out']\n",
        "print(inng1_dismissal_points)\n",
        "inng2_dismissal_points = [i for i in match_inn_2_bat['dismissal'] if i.strip() != 'not out']\n",
        "print(inng2_dismissal_points)\n",
        "\n",
        "inng_dismissal_points = inng1_dismissal_points + inng2_dismissal_points\n",
        "print(inng_dismissal_points)\n",
        "\n",
        "c_player_name_list=[]\n",
        "s_player_name_list=[]\n",
        "\n",
        "for i in inng_dismissal_points:\n",
        "  get_c_player_name(i)\n",
        "  get_s_player_name(i)\n",
        "\n",
        "  c_player_points_dict = {'Players': c_player_name_list, \n",
        "        'Points': 10}  \n",
        "  c_player_points_df = pd.DataFrame.from_dict(c_player_points_dict)\n",
        "\n",
        "  s_player_points_dict = {'Players': s_player_name_list, \n",
        "        'Points': 20}  \n",
        "  s_player_points_df = pd.DataFrame.from_dict(s_player_points_dict)\n",
        "\n",
        "print(c_player_points_df)\n",
        "print(c_player_name_list)\n",
        "\n",
        "print(s_player_points_df)\n",
        "print(s_player_name_list)"
      ],
      "execution_count": null,
      "outputs": [
        {
          "output_type": "stream",
          "text": [
            "[' b Washington Sundar', 'c Chris Morris b Washington Sundar', ' b Udana', 'run out (Chris Morris) ', 'c Gurkeerat Singh b Chahal', 'c de Villiers b Chris Morris', 'c Gurkeerat Singh b Chris Morris', 'c Devdutt Padikkal b Chris Morris']\n",
            "['c du Plessis b Thakur', 'b D Chahar', 'c Dhoni b Thakur', 'c Dhoni b Sam Curran']\n",
            "[' b Washington Sundar', 'c Chris Morris b Washington Sundar', ' b Udana', 'run out (Chris Morris) ', 'c Gurkeerat Singh b Chahal', 'c de Villiers b Chris Morris', 'c Gurkeerat Singh b Chris Morris', 'c Devdutt Padikkal b Chris Morris', 'c du Plessis b Thakur', 'b D Chahar', 'c Dhoni b Thakur', 'c Dhoni b Sam Curran']\n",
            "            Players  Points\n",
            "0      Chris Morris      10\n",
            "1   Gurkeerat Singh      10\n",
            "2       de Villiers      10\n",
            "3   Gurkeerat Singh      10\n",
            "4  Devdutt Padikkal      10\n",
            "5        du Plessis      10\n",
            "6             Dhoni      10\n",
            "7             Dhoni      10\n",
            "['Chris Morris', 'Gurkeerat Singh', 'de Villiers', 'Gurkeerat Singh', 'Devdutt Padikkal', 'du Plessis', 'Dhoni', 'Dhoni']\n",
            "Empty DataFrame\n",
            "Columns: [Players, Points]\n",
            "Index: []\n",
            "[]\n"
          ],
          "name": "stdout"
        }
      ]
    },
    {
      "cell_type": "markdown",
      "metadata": {
        "id": "844npSPSRXco"
      },
      "source": [
        "Calculate points for not out"
      ]
    },
    {
      "cell_type": "code",
      "metadata": {
        "id": "3QONug7URWOX",
        "colab": {
          "base_uri": "https://localhost:8080/",
          "height": 52
        },
        "outputId": "3da91c52-6507-4581-aedc-93cebaf2a56a"
      },
      "source": [
        "not_out_player_points_list_inn1 = [ i for i in match_inn_1_bat[match_inn_1_bat['dismissal'] == 'not out']['name'] ] \n",
        "print(not_out_player_points_list_inn1)\n",
        "not_out_player_points_list_inn2 = [ i for i in match_inn_2_bat[match_inn_2_bat['dismissal'] == 'not out']['name'] ] \n",
        "print(not_out_player_points_list_inn2)"
      ],
      "execution_count": null,
      "outputs": [
        {
          "output_type": "stream",
          "text": [
            "['Chahar', 'Thakur']\n",
            "['Kohli', 'Shivam Dube']\n"
          ],
          "name": "stdout"
        }
      ]
    },
    {
      "cell_type": "markdown",
      "metadata": {
        "id": "8uuRLiY-igmv"
      },
      "source": [
        "Combine both the list of not out player obtained from both the innings and create a data frame with points obtained as 10"
      ]
    },
    {
      "cell_type": "code",
      "metadata": {
        "id": "HDxN-u369rCq",
        "colab": {
          "base_uri": "https://localhost:8080/",
          "height": 105
        },
        "outputId": "85f19ea8-e40c-4aa9-f048-5c5671c962c1"
      },
      "source": [
        "not_out_player_points_list = not_out_player_points_list_inn1 + not_out_player_points_list_inn2\n",
        "not_out_player_points_dict = {'Players': not_out_player_points_list, \n",
        "        'Points': 10}  \n",
        "not_out_player_points_df = pd.DataFrame.from_dict(not_out_player_points_dict)\n",
        "print(not_out_player_points_df)"
      ],
      "execution_count": null,
      "outputs": [
        {
          "output_type": "stream",
          "text": [
            "       Players  Points\n",
            "0       Chahar      10\n",
            "1       Thakur      10\n",
            "2        Kohli      10\n",
            "3  Shivam Dube      10\n"
          ],
          "name": "stdout"
        }
      ]
    },
    {
      "cell_type": "code",
      "metadata": {
        "id": "cETTZFiAruLj"
      },
      "source": [
        "match_inn_2_bat = pd.DataFrame(match_inn_2.scorecard['batcard'])"
      ],
      "execution_count": null,
      "outputs": []
    },
    {
      "cell_type": "code",
      "metadata": {
        "id": "qcF8bZk9skWq",
        "colab": {
          "base_uri": "https://localhost:8080/",
          "height": 141
        },
        "outputId": "47cdd1e3-7a27-4b7d-d483-2ef8737206c6"
      },
      "source": [
        "print(match_inn_2_bat)"
      ],
      "execution_count": null,
      "outputs": [
        {
          "output_type": "stream",
          "text": [
            "  balls              dismissal fours               name runs six\n",
            "0    34  c du Plessis b Thakur     2   Devdutt Padikkal   33   1\n",
            "1     9             b D Chahar     0              Finch    2   0\n",
            "2    52                not out     4              Kohli   90   4\n",
            "3     2       c Dhoni b Thakur     0        de Villiers    0   0\n",
            "4    10   c Dhoni b Sam Curran     0  Washington Sundar   10   1\n",
            "5    14                not out     2        Shivam Dube   22   1\n"
          ],
          "name": "stdout"
        }
      ]
    },
    {
      "cell_type": "code",
      "metadata": {
        "id": "RSuFM2VWwvD9"
      },
      "source": [
        "all_df = [inng1_bowl_points_calc_df, inng2_bow2_points_calc_df, inng1_bat_points_df , inng2_bat_points_df , c_player_points_df, s_player_points_df , not_out_player_points_df]"
      ],
      "execution_count": null,
      "outputs": []
    },
    {
      "cell_type": "code",
      "metadata": {
        "id": "S5Tz2TF7vUC5",
        "colab": {
          "base_uri": "https://localhost:8080/",
          "height": 227
        },
        "outputId": "a8e01ae9-97ef-4801-c4fe-ba3470c4a4f9"
      },
      "source": [
        "inng1_bowl_points_calc_df"
      ],
      "execution_count": null,
      "outputs": [
        {
          "output_type": "execute_result",
          "data": {
            "text/html": [
              "<div>\n",
              "<style scoped>\n",
              "    .dataframe tbody tr th:only-of-type {\n",
              "        vertical-align: middle;\n",
              "    }\n",
              "\n",
              "    .dataframe tbody tr th {\n",
              "        vertical-align: top;\n",
              "    }\n",
              "\n",
              "    .dataframe thead th {\n",
              "        text-align: right;\n",
              "    }\n",
              "</style>\n",
              "<table border=\"1\" class=\"dataframe\">\n",
              "  <thead>\n",
              "    <tr style=\"text-align: right;\">\n",
              "      <th></th>\n",
              "      <th>Players</th>\n",
              "      <th>Points</th>\n",
              "    </tr>\n",
              "  </thead>\n",
              "  <tbody>\n",
              "    <tr>\n",
              "      <th>0</th>\n",
              "      <td>Chris Morris</td>\n",
              "      <td>120</td>\n",
              "    </tr>\n",
              "    <tr>\n",
              "      <th>1</th>\n",
              "      <td>Navdeep Saini</td>\n",
              "      <td>0</td>\n",
              "    </tr>\n",
              "    <tr>\n",
              "      <th>2</th>\n",
              "      <td>Udana</td>\n",
              "      <td>20</td>\n",
              "    </tr>\n",
              "    <tr>\n",
              "      <th>3</th>\n",
              "      <td>Washington Sundar</td>\n",
              "      <td>40</td>\n",
              "    </tr>\n",
              "    <tr>\n",
              "      <th>4</th>\n",
              "      <td>Chahal</td>\n",
              "      <td>20</td>\n",
              "    </tr>\n",
              "    <tr>\n",
              "      <th>5</th>\n",
              "      <td>Shivam Dube</td>\n",
              "      <td>0</td>\n",
              "    </tr>\n",
              "  </tbody>\n",
              "</table>\n",
              "</div>"
            ],
            "text/plain": [
              "             Players  Points\n",
              "0       Chris Morris     120\n",
              "1      Navdeep Saini       0\n",
              "2              Udana      20\n",
              "3  Washington Sundar      40\n",
              "4             Chahal      20\n",
              "5        Shivam Dube       0"
            ]
          },
          "metadata": {
            "tags": []
          },
          "execution_count": 287
        }
      ]
    },
    {
      "cell_type": "code",
      "metadata": {
        "id": "6JqO5_tmtmDB"
      },
      "source": [
        "total_points_df = pd.concat(all_df, ignore_index=False)"
      ],
      "execution_count": null,
      "outputs": []
    },
    {
      "cell_type": "code",
      "metadata": {
        "id": "uMmy4amKvQiN",
        "colab": {
          "base_uri": "https://localhost:8080/",
          "height": 737
        },
        "outputId": "1004ec15-2a57-4333-a4a7-7378cbe612fb"
      },
      "source": [
        "total_points_df.groupby(by=['Players']).sum()"
      ],
      "execution_count": null,
      "outputs": [
        {
          "output_type": "execute_result",
          "data": {
            "text/html": [
              "<div>\n",
              "<style scoped>\n",
              "    .dataframe tbody tr th:only-of-type {\n",
              "        vertical-align: middle;\n",
              "    }\n",
              "\n",
              "    .dataframe tbody tr th {\n",
              "        vertical-align: top;\n",
              "    }\n",
              "\n",
              "    .dataframe thead th {\n",
              "        text-align: right;\n",
              "    }\n",
              "</style>\n",
              "<table border=\"1\" class=\"dataframe\">\n",
              "  <thead>\n",
              "    <tr style=\"text-align: right;\">\n",
              "      <th></th>\n",
              "      <th>Points</th>\n",
              "    </tr>\n",
              "    <tr>\n",
              "      <th>Players</th>\n",
              "      <th></th>\n",
              "    </tr>\n",
              "  </thead>\n",
              "  <tbody>\n",
              "    <tr>\n",
              "      <th>Chahal</th>\n",
              "      <td>20</td>\n",
              "    </tr>\n",
              "    <tr>\n",
              "      <th>Chahar</th>\n",
              "      <td>35</td>\n",
              "    </tr>\n",
              "    <tr>\n",
              "      <th>Chris Morris</th>\n",
              "      <td>130</td>\n",
              "    </tr>\n",
              "    <tr>\n",
              "      <th>Devdutt Padikkal</th>\n",
              "      <td>43</td>\n",
              "    </tr>\n",
              "    <tr>\n",
              "      <th>Dhoni</th>\n",
              "      <td>30</td>\n",
              "    </tr>\n",
              "    <tr>\n",
              "      <th>Dwayne Bravo</th>\n",
              "      <td>7</td>\n",
              "    </tr>\n",
              "    <tr>\n",
              "      <th>Finch</th>\n",
              "      <td>2</td>\n",
              "    </tr>\n",
              "    <tr>\n",
              "      <th>Gurkeerat Singh</th>\n",
              "      <td>20</td>\n",
              "    </tr>\n",
              "    <tr>\n",
              "      <th>Jadeja</th>\n",
              "      <td>7</td>\n",
              "    </tr>\n",
              "    <tr>\n",
              "      <th>Karn Sharma</th>\n",
              "      <td>0</td>\n",
              "    </tr>\n",
              "    <tr>\n",
              "      <th>Kohli</th>\n",
              "      <td>190</td>\n",
              "    </tr>\n",
              "    <tr>\n",
              "      <th>N Jagadeesan</th>\n",
              "      <td>33</td>\n",
              "    </tr>\n",
              "    <tr>\n",
              "      <th>Navdeep Saini</th>\n",
              "      <td>0</td>\n",
              "    </tr>\n",
              "    <tr>\n",
              "      <th>Rayudu</th>\n",
              "      <td>42</td>\n",
              "    </tr>\n",
              "    <tr>\n",
              "      <th>Sam Curran</th>\n",
              "      <td>-30</td>\n",
              "    </tr>\n",
              "    <tr>\n",
              "      <th>Shivam Dube</th>\n",
              "      <td>32</td>\n",
              "    </tr>\n",
              "    <tr>\n",
              "      <th>Thakur</th>\n",
              "      <td>51</td>\n",
              "    </tr>\n",
              "    <tr>\n",
              "      <th>Udana</th>\n",
              "      <td>20</td>\n",
              "    </tr>\n",
              "    <tr>\n",
              "      <th>Washington Sundar</th>\n",
              "      <td>50</td>\n",
              "    </tr>\n",
              "    <tr>\n",
              "      <th>Watson</th>\n",
              "      <td>14</td>\n",
              "    </tr>\n",
              "    <tr>\n",
              "      <th>de Villiers</th>\n",
              "      <td>10</td>\n",
              "    </tr>\n",
              "    <tr>\n",
              "      <th>du Plessis</th>\n",
              "      <td>18</td>\n",
              "    </tr>\n",
              "  </tbody>\n",
              "</table>\n",
              "</div>"
            ],
            "text/plain": [
              "                   Points\n",
              "Players                  \n",
              "Chahal                 20\n",
              "Chahar                 35\n",
              "Chris Morris          130\n",
              "Devdutt Padikkal       43\n",
              "Dhoni                  30\n",
              "Dwayne Bravo            7\n",
              "Finch                   2\n",
              "Gurkeerat Singh        20\n",
              "Jadeja                  7\n",
              "Karn Sharma             0\n",
              "Kohli                 190\n",
              "N Jagadeesan           33\n",
              "Navdeep Saini           0\n",
              "Rayudu                 42\n",
              "Sam Curran            -30\n",
              "Shivam Dube            32\n",
              "Thakur                 51\n",
              "Udana                  20\n",
              "Washington Sundar      50\n",
              "Watson                 14\n",
              "de Villiers            10\n",
              "du Plessis             18"
            ]
          },
          "metadata": {
            "tags": []
          },
          "execution_count": 289
        }
      ]
    },
    {
      "cell_type": "code",
      "metadata": {
        "id": "JZ5-stAStnOU",
        "colab": {
          "base_uri": "https://localhost:8080/",
          "height": 1000
        },
        "outputId": "873a4f0b-c8c3-44a8-b412-ea1535c28217"
      },
      "source": [
        "total_points_df"
      ],
      "execution_count": null,
      "outputs": [
        {
          "output_type": "execute_result",
          "data": {
            "text/html": [
              "<div>\n",
              "<style scoped>\n",
              "    .dataframe tbody tr th:only-of-type {\n",
              "        vertical-align: middle;\n",
              "    }\n",
              "\n",
              "    .dataframe tbody tr th {\n",
              "        vertical-align: top;\n",
              "    }\n",
              "\n",
              "    .dataframe thead th {\n",
              "        text-align: right;\n",
              "    }\n",
              "</style>\n",
              "<table border=\"1\" class=\"dataframe\">\n",
              "  <thead>\n",
              "    <tr style=\"text-align: right;\">\n",
              "      <th></th>\n",
              "      <th>Players</th>\n",
              "      <th>Points</th>\n",
              "    </tr>\n",
              "  </thead>\n",
              "  <tbody>\n",
              "    <tr>\n",
              "      <th>0</th>\n",
              "      <td>Chris Morris</td>\n",
              "      <td>120</td>\n",
              "    </tr>\n",
              "    <tr>\n",
              "      <th>1</th>\n",
              "      <td>Navdeep Saini</td>\n",
              "      <td>0</td>\n",
              "    </tr>\n",
              "    <tr>\n",
              "      <th>2</th>\n",
              "      <td>Udana</td>\n",
              "      <td>20</td>\n",
              "    </tr>\n",
              "    <tr>\n",
              "      <th>3</th>\n",
              "      <td>Washington Sundar</td>\n",
              "      <td>40</td>\n",
              "    </tr>\n",
              "    <tr>\n",
              "      <th>4</th>\n",
              "      <td>Chahal</td>\n",
              "      <td>20</td>\n",
              "    </tr>\n",
              "    <tr>\n",
              "      <th>5</th>\n",
              "      <td>Shivam Dube</td>\n",
              "      <td>0</td>\n",
              "    </tr>\n",
              "    <tr>\n",
              "      <th>0</th>\n",
              "      <td>Chahar</td>\n",
              "      <td>20</td>\n",
              "    </tr>\n",
              "    <tr>\n",
              "      <th>1</th>\n",
              "      <td>Sam Curran</td>\n",
              "      <td>-30</td>\n",
              "    </tr>\n",
              "    <tr>\n",
              "      <th>2</th>\n",
              "      <td>Thakur</td>\n",
              "      <td>40</td>\n",
              "    </tr>\n",
              "    <tr>\n",
              "      <th>3</th>\n",
              "      <td>Dwayne Bravo</td>\n",
              "      <td>0</td>\n",
              "    </tr>\n",
              "    <tr>\n",
              "      <th>4</th>\n",
              "      <td>Karn Sharma</td>\n",
              "      <td>0</td>\n",
              "    </tr>\n",
              "    <tr>\n",
              "      <th>5</th>\n",
              "      <td>Jadeja</td>\n",
              "      <td>0</td>\n",
              "    </tr>\n",
              "    <tr>\n",
              "      <th>0</th>\n",
              "      <td>Watson</td>\n",
              "      <td>14</td>\n",
              "    </tr>\n",
              "    <tr>\n",
              "      <th>1</th>\n",
              "      <td>du Plessis</td>\n",
              "      <td>8</td>\n",
              "    </tr>\n",
              "    <tr>\n",
              "      <th>2</th>\n",
              "      <td>Rayudu</td>\n",
              "      <td>42</td>\n",
              "    </tr>\n",
              "    <tr>\n",
              "      <th>3</th>\n",
              "      <td>N Jagadeesan</td>\n",
              "      <td>33</td>\n",
              "    </tr>\n",
              "    <tr>\n",
              "      <th>4</th>\n",
              "      <td>Dhoni</td>\n",
              "      <td>10</td>\n",
              "    </tr>\n",
              "    <tr>\n",
              "      <th>5</th>\n",
              "      <td>Sam Curran</td>\n",
              "      <td>0</td>\n",
              "    </tr>\n",
              "    <tr>\n",
              "      <th>6</th>\n",
              "      <td>Jadeja</td>\n",
              "      <td>7</td>\n",
              "    </tr>\n",
              "    <tr>\n",
              "      <th>7</th>\n",
              "      <td>Dwayne Bravo</td>\n",
              "      <td>7</td>\n",
              "    </tr>\n",
              "    <tr>\n",
              "      <th>8</th>\n",
              "      <td>Chahar</td>\n",
              "      <td>5</td>\n",
              "    </tr>\n",
              "    <tr>\n",
              "      <th>9</th>\n",
              "      <td>Thakur</td>\n",
              "      <td>1</td>\n",
              "    </tr>\n",
              "    <tr>\n",
              "      <th>0</th>\n",
              "      <td>Devdutt Padikkal</td>\n",
              "      <td>33</td>\n",
              "    </tr>\n",
              "    <tr>\n",
              "      <th>1</th>\n",
              "      <td>Finch</td>\n",
              "      <td>2</td>\n",
              "    </tr>\n",
              "    <tr>\n",
              "      <th>2</th>\n",
              "      <td>Kohli</td>\n",
              "      <td>180</td>\n",
              "    </tr>\n",
              "    <tr>\n",
              "      <th>3</th>\n",
              "      <td>de Villiers</td>\n",
              "      <td>0</td>\n",
              "    </tr>\n",
              "    <tr>\n",
              "      <th>4</th>\n",
              "      <td>Washington Sundar</td>\n",
              "      <td>10</td>\n",
              "    </tr>\n",
              "    <tr>\n",
              "      <th>5</th>\n",
              "      <td>Shivam Dube</td>\n",
              "      <td>22</td>\n",
              "    </tr>\n",
              "    <tr>\n",
              "      <th>0</th>\n",
              "      <td>Chris Morris</td>\n",
              "      <td>10</td>\n",
              "    </tr>\n",
              "    <tr>\n",
              "      <th>1</th>\n",
              "      <td>Gurkeerat Singh</td>\n",
              "      <td>10</td>\n",
              "    </tr>\n",
              "    <tr>\n",
              "      <th>2</th>\n",
              "      <td>de Villiers</td>\n",
              "      <td>10</td>\n",
              "    </tr>\n",
              "    <tr>\n",
              "      <th>3</th>\n",
              "      <td>Gurkeerat Singh</td>\n",
              "      <td>10</td>\n",
              "    </tr>\n",
              "    <tr>\n",
              "      <th>4</th>\n",
              "      <td>Devdutt Padikkal</td>\n",
              "      <td>10</td>\n",
              "    </tr>\n",
              "    <tr>\n",
              "      <th>5</th>\n",
              "      <td>du Plessis</td>\n",
              "      <td>10</td>\n",
              "    </tr>\n",
              "    <tr>\n",
              "      <th>6</th>\n",
              "      <td>Dhoni</td>\n",
              "      <td>10</td>\n",
              "    </tr>\n",
              "    <tr>\n",
              "      <th>7</th>\n",
              "      <td>Dhoni</td>\n",
              "      <td>10</td>\n",
              "    </tr>\n",
              "    <tr>\n",
              "      <th>0</th>\n",
              "      <td>Chahar</td>\n",
              "      <td>10</td>\n",
              "    </tr>\n",
              "    <tr>\n",
              "      <th>1</th>\n",
              "      <td>Thakur</td>\n",
              "      <td>10</td>\n",
              "    </tr>\n",
              "    <tr>\n",
              "      <th>2</th>\n",
              "      <td>Kohli</td>\n",
              "      <td>10</td>\n",
              "    </tr>\n",
              "    <tr>\n",
              "      <th>3</th>\n",
              "      <td>Shivam Dube</td>\n",
              "      <td>10</td>\n",
              "    </tr>\n",
              "  </tbody>\n",
              "</table>\n",
              "</div>"
            ],
            "text/plain": [
              "             Players  Points\n",
              "0       Chris Morris     120\n",
              "1      Navdeep Saini       0\n",
              "2              Udana      20\n",
              "3  Washington Sundar      40\n",
              "4             Chahal      20\n",
              "5        Shivam Dube       0\n",
              "0             Chahar      20\n",
              "1         Sam Curran     -30\n",
              "2             Thakur      40\n",
              "3       Dwayne Bravo       0\n",
              "4        Karn Sharma       0\n",
              "5             Jadeja       0\n",
              "0             Watson      14\n",
              "1         du Plessis       8\n",
              "2             Rayudu      42\n",
              "3       N Jagadeesan      33\n",
              "4              Dhoni      10\n",
              "5         Sam Curran       0\n",
              "6             Jadeja       7\n",
              "7       Dwayne Bravo       7\n",
              "8             Chahar       5\n",
              "9             Thakur       1\n",
              "0   Devdutt Padikkal      33\n",
              "1              Finch       2\n",
              "2              Kohli     180\n",
              "3        de Villiers       0\n",
              "4  Washington Sundar      10\n",
              "5        Shivam Dube      22\n",
              "0       Chris Morris      10\n",
              "1    Gurkeerat Singh      10\n",
              "2        de Villiers      10\n",
              "3    Gurkeerat Singh      10\n",
              "4   Devdutt Padikkal      10\n",
              "5         du Plessis      10\n",
              "6              Dhoni      10\n",
              "7              Dhoni      10\n",
              "0             Chahar      10\n",
              "1             Thakur      10\n",
              "2              Kohli      10\n",
              "3        Shivam Dube      10"
            ]
          },
          "metadata": {
            "tags": []
          },
          "execution_count": 290
        }
      ]
    }
  ]
}