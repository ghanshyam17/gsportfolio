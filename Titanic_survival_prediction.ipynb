{
  "nbformat": 4,
  "nbformat_minor": 0,
  "metadata": {
    "kernelspec": {
      "display_name": "Python 3",
      "language": "python",
      "name": "python3"
    },
    "language_info": {
      "codemirror_mode": {
        "name": "ipython",
        "version": 3
      },
      "file_extension": ".py",
      "mimetype": "text/x-python",
      "name": "python",
      "nbconvert_exporter": "python",
      "pygments_lexer": "ipython3",
      "version": "3.7.6"
    },
    "colab": {
      "name": "Titanic_survival_prediction.ipynb",
      "provenance": [],
      "include_colab_link": true
    }
  },
  "cells": [
    {
      "cell_type": "markdown",
      "metadata": {
        "id": "view-in-github",
        "colab_type": "text"
      },
      "source": [
        "<a href=\"https://colab.research.google.com/github/ghanshyam17/gsportfolio/blob/master/Titanic_survival_prediction.ipynb\" target=\"_parent\"><img src=\"https://colab.research.google.com/assets/colab-badge.svg\" alt=\"Open In Colab\"/></a>"
      ]
    },
    {
      "cell_type": "code",
      "metadata": {
        "id": "eSGHOX2hST_3"
      },
      "source": [
        "import pandas as pd\n",
        "import numpy as np"
      ],
      "execution_count": null,
      "outputs": []
    },
    {
      "cell_type": "markdown",
      "metadata": {
        "id": "2mLO_n7aST_8"
      },
      "source": [
        "## **Overview**\n",
        "* `PassengerId` is the unique id of the row and it doesn't have any effect on target\n",
        "* `Survived` is the target variable we are trying to predict (**0** or **1**):\n",
        "    - **1 = Survived**\n",
        "    - **0 = Not Survived**\n",
        "* `Pclass` (Passenger Class) is the socio-economic status of the passenger and it is a categorical ordinal feature which has **3** unique values (**1, 2 or 3**):\n",
        "    - **1 = Upper Class**\n",
        "    - **2 = Middle Class**\n",
        "    - **3 = Lower Class**\n",
        "* `Name`, `Sex` and `Age` are self-explanatory\n",
        "* `SibSp` is the total number of the passengers' siblings and spouse\n",
        "* `Parch` is the total number of the passengers' parents and children\n",
        "* `Ticket` is the ticket number of the passenger\n",
        "* `Fare` is the passenger fare\n",
        "* `Cabin` is the cabin number of the passenger\n",
        "* `Embarked` is port of embarkation and it is a categorical feature which has **3** unique values (**C**, **Q** or **S**):\n",
        "    - **C = Cherbourg**\n",
        "    - **Q = Queenstown**\n",
        "    - **S = Southampton**"
      ]
    },
    {
      "cell_type": "code",
      "metadata": {
        "id": "pWapjwV6ST_8"
      },
      "source": [
        "train = pd.read_csv()\n",
        "test = pd.read_csv()"
      ],
      "execution_count": null,
      "outputs": []
    },
    {
      "cell_type": "markdown",
      "metadata": {
        "id": "mYafMvP7SUAB"
      },
      "source": [
        "Basically, the columns `SibSp` and `Parch` tells us whether the corresponding person was accompanied by anyone or not. So we will create a new column `Is_alone` which will tell us whether the person was accompanied (**1**) or not (**0**)."
      ]
    },
    {
      "cell_type": "code",
      "metadata": {
        "id": "8VRO5CjBSUAC"
      },
      "source": [
        "def is_alone(x):\n",
        "    if  (x['SibSp'] + x['Parch'])  > 0:\n",
        "        return 1\n",
        "    else:\n",
        "        return 0\n",
        "\n",
        "train['Is_alone'] = train.apply(is_alone, axis = 1)\n",
        "test['Is_alone'] = test.apply(is_alone, axis = 1)"
      ],
      "execution_count": null,
      "outputs": []
    },
    {
      "cell_type": "markdown",
      "metadata": {
        "id": "fWxI6DPrSUAG"
      },
      "source": [
        "## Inference\n",
        "\n",
        "1. Column `PassengerId` won't help us.\n",
        "2. I've seen people use column `Name` cleverly like [here](https://www.kaggle.com/gunesevitan/titanic-advanced-feature-engineering-tutorial) but I won't be using in this notebook because:\n",
        "    - Not important from prespective of our main objective.\n",
        "    - Requires extra efforts.\n",
        "    - Might not bring a huge change.    \n",
        "3. Now that we have created a new feature `Is_alone` using features `SibSp` and `Parch`, we can delete them from our dataset."
      ]
    },
    {
      "cell_type": "code",
      "metadata": {
        "id": "r_mHkLnLSUAG"
      },
      "source": [
        "train = train.drop(['PassengerId','Name','SibSp','Parch'], axis = 1)\n",
        "test = test.drop(['Name','SibSp','Parch'], axis = 1)"
      ],
      "execution_count": null,
      "outputs": []
    },
    {
      "cell_type": "markdown",
      "metadata": {
        "id": "rwZof1DNSUAK"
      },
      "source": [
        "## Explore"
      ]
    },
    {
      "cell_type": "code",
      "metadata": {
        "id": "z1Q1HnB2SUAK",
        "outputId": "caeca066-5f4f-4852-b219-f921f0e562ec"
      },
      "source": [
        "print(\"Train columns:\", ', '.join(map(str, train.columns))) \n",
        "display(train.head())\n",
        "print(\"\\nTest columns:\",  ', '.join(map(str, test.columns)))\n",
        "display(test.head())"
      ],
      "execution_count": null,
      "outputs": [
        {
          "output_type": "stream",
          "text": [
            "Train columns: Survived, Pclass, Sex, Age, Ticket, Fare, Cabin, Embarked, Is_alone\n"
          ],
          "name": "stdout"
        },
        {
          "output_type": "display_data",
          "data": {
            "text/html": [
              "<div>\n",
              "<style scoped>\n",
              "    .dataframe tbody tr th:only-of-type {\n",
              "        vertical-align: middle;\n",
              "    }\n",
              "\n",
              "    .dataframe tbody tr th {\n",
              "        vertical-align: top;\n",
              "    }\n",
              "\n",
              "    .dataframe thead th {\n",
              "        text-align: right;\n",
              "    }\n",
              "</style>\n",
              "<table border=\"1\" class=\"dataframe\">\n",
              "  <thead>\n",
              "    <tr style=\"text-align: right;\">\n",
              "      <th></th>\n",
              "      <th>Survived</th>\n",
              "      <th>Pclass</th>\n",
              "      <th>Sex</th>\n",
              "      <th>Age</th>\n",
              "      <th>Ticket</th>\n",
              "      <th>Fare</th>\n",
              "      <th>Cabin</th>\n",
              "      <th>Embarked</th>\n",
              "      <th>Is_alone</th>\n",
              "    </tr>\n",
              "  </thead>\n",
              "  <tbody>\n",
              "    <tr>\n",
              "      <th>0</th>\n",
              "      <td>0</td>\n",
              "      <td>3</td>\n",
              "      <td>male</td>\n",
              "      <td>22.0</td>\n",
              "      <td>A/5 21171</td>\n",
              "      <td>7.2500</td>\n",
              "      <td>NaN</td>\n",
              "      <td>S</td>\n",
              "      <td>1</td>\n",
              "    </tr>\n",
              "    <tr>\n",
              "      <th>1</th>\n",
              "      <td>1</td>\n",
              "      <td>1</td>\n",
              "      <td>female</td>\n",
              "      <td>38.0</td>\n",
              "      <td>PC 17599</td>\n",
              "      <td>71.2833</td>\n",
              "      <td>C85</td>\n",
              "      <td>C</td>\n",
              "      <td>1</td>\n",
              "    </tr>\n",
              "    <tr>\n",
              "      <th>2</th>\n",
              "      <td>1</td>\n",
              "      <td>3</td>\n",
              "      <td>female</td>\n",
              "      <td>26.0</td>\n",
              "      <td>STON/O2. 3101282</td>\n",
              "      <td>7.9250</td>\n",
              "      <td>NaN</td>\n",
              "      <td>S</td>\n",
              "      <td>0</td>\n",
              "    </tr>\n",
              "    <tr>\n",
              "      <th>3</th>\n",
              "      <td>1</td>\n",
              "      <td>1</td>\n",
              "      <td>female</td>\n",
              "      <td>35.0</td>\n",
              "      <td>113803</td>\n",
              "      <td>53.1000</td>\n",
              "      <td>C123</td>\n",
              "      <td>S</td>\n",
              "      <td>1</td>\n",
              "    </tr>\n",
              "    <tr>\n",
              "      <th>4</th>\n",
              "      <td>0</td>\n",
              "      <td>3</td>\n",
              "      <td>male</td>\n",
              "      <td>35.0</td>\n",
              "      <td>373450</td>\n",
              "      <td>8.0500</td>\n",
              "      <td>NaN</td>\n",
              "      <td>S</td>\n",
              "      <td>0</td>\n",
              "    </tr>\n",
              "  </tbody>\n",
              "</table>\n",
              "</div>"
            ],
            "text/plain": [
              "   Survived  Pclass     Sex   Age            Ticket     Fare Cabin Embarked  \\\n",
              "0         0       3    male  22.0         A/5 21171   7.2500   NaN        S   \n",
              "1         1       1  female  38.0          PC 17599  71.2833   C85        C   \n",
              "2         1       3  female  26.0  STON/O2. 3101282   7.9250   NaN        S   \n",
              "3         1       1  female  35.0            113803  53.1000  C123        S   \n",
              "4         0       3    male  35.0            373450   8.0500   NaN        S   \n",
              "\n",
              "   Is_alone  \n",
              "0         1  \n",
              "1         1  \n",
              "2         0  \n",
              "3         1  \n",
              "4         0  "
            ]
          },
          "metadata": {
            "tags": []
          }
        },
        {
          "output_type": "stream",
          "text": [
            "\n",
            "Test columns: PassengerId, Pclass, Sex, Age, Ticket, Fare, Cabin, Embarked, Is_alone\n"
          ],
          "name": "stdout"
        },
        {
          "output_type": "display_data",
          "data": {
            "text/html": [
              "<div>\n",
              "<style scoped>\n",
              "    .dataframe tbody tr th:only-of-type {\n",
              "        vertical-align: middle;\n",
              "    }\n",
              "\n",
              "    .dataframe tbody tr th {\n",
              "        vertical-align: top;\n",
              "    }\n",
              "\n",
              "    .dataframe thead th {\n",
              "        text-align: right;\n",
              "    }\n",
              "</style>\n",
              "<table border=\"1\" class=\"dataframe\">\n",
              "  <thead>\n",
              "    <tr style=\"text-align: right;\">\n",
              "      <th></th>\n",
              "      <th>PassengerId</th>\n",
              "      <th>Pclass</th>\n",
              "      <th>Sex</th>\n",
              "      <th>Age</th>\n",
              "      <th>Ticket</th>\n",
              "      <th>Fare</th>\n",
              "      <th>Cabin</th>\n",
              "      <th>Embarked</th>\n",
              "      <th>Is_alone</th>\n",
              "    </tr>\n",
              "  </thead>\n",
              "  <tbody>\n",
              "    <tr>\n",
              "      <th>0</th>\n",
              "      <td>892</td>\n",
              "      <td>3</td>\n",
              "      <td>male</td>\n",
              "      <td>34.5</td>\n",
              "      <td>330911</td>\n",
              "      <td>7.8292</td>\n",
              "      <td>NaN</td>\n",
              "      <td>Q</td>\n",
              "      <td>0</td>\n",
              "    </tr>\n",
              "    <tr>\n",
              "      <th>1</th>\n",
              "      <td>893</td>\n",
              "      <td>3</td>\n",
              "      <td>female</td>\n",
              "      <td>47.0</td>\n",
              "      <td>363272</td>\n",
              "      <td>7.0000</td>\n",
              "      <td>NaN</td>\n",
              "      <td>S</td>\n",
              "      <td>1</td>\n",
              "    </tr>\n",
              "    <tr>\n",
              "      <th>2</th>\n",
              "      <td>894</td>\n",
              "      <td>2</td>\n",
              "      <td>male</td>\n",
              "      <td>62.0</td>\n",
              "      <td>240276</td>\n",
              "      <td>9.6875</td>\n",
              "      <td>NaN</td>\n",
              "      <td>Q</td>\n",
              "      <td>0</td>\n",
              "    </tr>\n",
              "    <tr>\n",
              "      <th>3</th>\n",
              "      <td>895</td>\n",
              "      <td>3</td>\n",
              "      <td>male</td>\n",
              "      <td>27.0</td>\n",
              "      <td>315154</td>\n",
              "      <td>8.6625</td>\n",
              "      <td>NaN</td>\n",
              "      <td>S</td>\n",
              "      <td>0</td>\n",
              "    </tr>\n",
              "    <tr>\n",
              "      <th>4</th>\n",
              "      <td>896</td>\n",
              "      <td>3</td>\n",
              "      <td>female</td>\n",
              "      <td>22.0</td>\n",
              "      <td>3101298</td>\n",
              "      <td>12.2875</td>\n",
              "      <td>NaN</td>\n",
              "      <td>S</td>\n",
              "      <td>1</td>\n",
              "    </tr>\n",
              "  </tbody>\n",
              "</table>\n",
              "</div>"
            ],
            "text/plain": [
              "   PassengerId  Pclass     Sex   Age   Ticket     Fare Cabin Embarked  \\\n",
              "0          892       3    male  34.5   330911   7.8292   NaN        Q   \n",
              "1          893       3  female  47.0   363272   7.0000   NaN        S   \n",
              "2          894       2    male  62.0   240276   9.6875   NaN        Q   \n",
              "3          895       3    male  27.0   315154   8.6625   NaN        S   \n",
              "4          896       3  female  22.0  3101298  12.2875   NaN        S   \n",
              "\n",
              "   Is_alone  \n",
              "0         0  \n",
              "1         1  \n",
              "2         0  \n",
              "3         0  \n",
              "4         1  "
            ]
          },
          "metadata": {
            "tags": []
          }
        }
      ]
    },
    {
      "cell_type": "markdown",
      "metadata": {
        "id": "_NN9b2b3SUAP"
      },
      "source": [
        "## Checking for missing values"
      ]
    },
    {
      "cell_type": "code",
      "metadata": {
        "id": "se_tq0yTSUAP",
        "outputId": "7c669292-4f5c-4332-a2c4-e2a8891a791c"
      },
      "source": [
        "print(\"TRAIN DATA:\")\n",
        "train.isnull().sum()"
      ],
      "execution_count": null,
      "outputs": [
        {
          "output_type": "stream",
          "text": [
            "TRAIN DATA:\n"
          ],
          "name": "stdout"
        },
        {
          "output_type": "execute_result",
          "data": {
            "text/plain": [
              "Survived      0\n",
              "Pclass        0\n",
              "Sex           0\n",
              "Age         177\n",
              "Ticket        0\n",
              "Fare          0\n",
              "Cabin       687\n",
              "Embarked      2\n",
              "Is_alone      0\n",
              "dtype: int64"
            ]
          },
          "metadata": {
            "tags": []
          },
          "execution_count": 6
        }
      ]
    },
    {
      "cell_type": "code",
      "metadata": {
        "id": "wTth_SxRSUAU",
        "outputId": "11c168e8-8a67-42a0-95d5-1ae97827ca5b"
      },
      "source": [
        "print(\"TEST DATA:\")\n",
        "test.isnull().sum()"
      ],
      "execution_count": null,
      "outputs": [
        {
          "output_type": "stream",
          "text": [
            "TEST DATA:\n"
          ],
          "name": "stdout"
        },
        {
          "output_type": "execute_result",
          "data": {
            "text/plain": [
              "PassengerId      0\n",
              "Pclass           0\n",
              "Sex              0\n",
              "Age             86\n",
              "Ticket           0\n",
              "Fare             1\n",
              "Cabin          327\n",
              "Embarked         0\n",
              "Is_alone         0\n",
              "dtype: int64"
            ]
          },
          "metadata": {
            "tags": []
          },
          "execution_count": 7
        }
      ]
    },
    {
      "cell_type": "markdown",
      "metadata": {
        "id": "4nZCjhEUSUAX"
      },
      "source": [
        "#### Observations:\n",
        "- **177** values missing from `Age` from training data.\n",
        "- **687** values missing from `Cabin` from training data.\n",
        "- **2** values missing from `Embarked` from training data.\n",
        "\n",
        "- **86** values missing from `Age` from testing data.\n",
        "- **1** value missing from `Fare` from testing data.\n",
        "- **327** values missing from `Cabin` from testing data."
      ]
    },
    {
      "cell_type": "markdown",
      "metadata": {
        "id": "aYswtBf9SUAY"
      },
      "source": [
        "## Dealing with missing values\n",
        "\n",
        "- We have two types of missing values:\n",
        "    - Integer/Float (int64/float64)\n",
        "    - Text (object)\n",
        "\n",
        "- We will use [SimpleImputer](https://scikit-learn.org/stable/modules/generated/sklearn.impute.SimpleImputer.html) for numerical values and [OneHotEncoder](https://scikit-learn.org/stable/modules/generated/sklearn.preprocessing.OneHotEncoder.html) for categorical values.\n",
        "- We will follow a pipeline which goes like this: \n",
        "            \n",
        "            Impute Numerical values > Impute Categorical Values > Trasfrom Columns > Define model\n",
        "- Let's find out which are numerical and categorical columns in our dataset."
      ]
    },
    {
      "cell_type": "code",
      "metadata": {
        "id": "ezAH3XjDSUAZ",
        "outputId": "f466d5fb-2877-4484-e567-e1461978bb5a"
      },
      "source": [
        "train.dtypes"
      ],
      "execution_count": null,
      "outputs": [
        {
          "output_type": "execute_result",
          "data": {
            "text/plain": [
              "Survived      int64\n",
              "Pclass        int64\n",
              "Sex          object\n",
              "Age         float64\n",
              "Ticket       object\n",
              "Fare        float64\n",
              "Cabin        object\n",
              "Embarked     object\n",
              "Is_alone      int64\n",
              "dtype: object"
            ]
          },
          "metadata": {
            "tags": []
          },
          "execution_count": 8
        }
      ]
    },
    {
      "cell_type": "markdown",
      "metadata": {
        "id": "jTpiS7ShSUAb"
      },
      "source": [
        "#### Observation\n",
        "`Pclass, Age, Is_alone, Fare` are numerical columns.\n",
        "\n",
        "`Sex, Ticket, Cabin, Embarked` are categorical columns."
      ]
    },
    {
      "cell_type": "code",
      "metadata": {
        "id": "ZGf7h0VQSUAc"
      },
      "source": [
        "numerical = ['Pclass','Age','Is_alone','Fare']\n",
        "categorical = ['Sex','Ticket','Cabin','Embarked']"
      ],
      "execution_count": null,
      "outputs": []
    },
    {
      "cell_type": "code",
      "metadata": {
        "id": "CES5vZW4SUAf",
        "outputId": "3eb9f98e-319c-48f3-a170-9ba990959a8e"
      },
      "source": [
        "features = numerical + categorical\n",
        "target = ['Survived']\n",
        "print('Features:', features, '\\nTarget:', target)"
      ],
      "execution_count": null,
      "outputs": [
        {
          "output_type": "stream",
          "text": [
            "Features: ['Pclass', 'Age', 'Is_alone', 'Fare', 'Sex', 'Ticket', 'Cabin', 'Embarked'] \n",
            "Target: ['Survived']\n"
          ],
          "name": "stdout"
        }
      ]
    },
    {
      "cell_type": "code",
      "metadata": {
        "id": "2ILjtKpxSUAj"
      },
      "source": [
        "from sklearn.model_selection import train_test_split\n",
        "\n",
        "train_set, valid_set = train_test_split(train, test_size = 0.3, random_state = 0)"
      ],
      "execution_count": null,
      "outputs": []
    },
    {
      "cell_type": "markdown",
      "metadata": {
        "id": "Si0FRk31SUAo"
      },
      "source": [
        "## Transforming the data\n",
        "We will use combination of [ColumnTransformer](https://scikit-learn.org/stable/modules/generated/sklearn.compose.ColumnTransformer.html) with [Pipeline](https://scikit-learn.org/stable/modules/generated/sklearn.pipeline.Pipeline.html) to carry out the necessary transformation on our data.\n",
        "\n",
        "Transformers we are going to use:\n",
        "\n",
        "|Data type|Transformer|\n",
        "|:---|:---|\n",
        "|Numerical|[SimpleImputer](https://scikit-learn.org/stable/modules/generated/sklearn.impute.SimpleImputer.html) & [StandardScaler](https://scikit-learn.org/stable/modules/generated/sklearn.preprocessing.StandardScaler.html)|\n",
        "|Categorical|[OneHotEncoder](https://scikit-learn.org/stable/modules/generated/sklearn.preprocessing.OneHotEncoder.html)|                                                                                                                                                                                                                                                                    \n",
        "\n",
        "\n",
        "We will use **mean** strategy to fill the missing values in numerical columns and **most_frequent** strategy for categorical columns."
      ]
    },
    {
      "cell_type": "code",
      "metadata": {
        "id": "PzkJN3FGSUAp"
      },
      "source": [
        "from sklearn.impute import SimpleImputer\n",
        "from sklearn.preprocessing import OneHotEncoder\n",
        "from sklearn.pipeline import Pipeline\n",
        "from sklearn.compose import ColumnTransformer\n",
        "from sklearn.preprocessing import StandardScaler\n",
        "numerical_transformer = Pipeline(steps=[\n",
        "                        ('simple', SimpleImputer(strategy='mean')),\n",
        "                        ('scaler', StandardScaler())])\n",
        "\n",
        "categorical_transformer = Pipeline(steps=[\n",
        "    ('imputer', SimpleImputer(strategy='most_frequent')),\n",
        "    ('onehot', OneHotEncoder(handle_unknown='ignore'))])\n",
        "\n",
        "preprocessor = ColumnTransformer(\n",
        "               transformers=[\n",
        "                    ('num', numerical_transformer, numerical),\n",
        "                    ('cat', categorical_transformer, categorical)])"
      ],
      "execution_count": null,
      "outputs": []
    },
    {
      "cell_type": "markdown",
      "metadata": {
        "id": "J5vzopKsSUAs"
      },
      "source": [
        "## Defining Models\n",
        "\n",
        "Here, we are going to try two approaches:\n",
        "\n",
        "1. Ensembling.\n",
        "2. Random Forest Classifier (used for submission)."
      ]
    },
    {
      "cell_type": "markdown",
      "metadata": {
        "id": "h704dlgjSUAt"
      },
      "source": [
        "### 1.1 Ensembling\n",
        "[Ensemble](https://scikit-learn.org/stable/modules/ensemble.html) methods are techniques that create multiple models and then combine them to produce improved results. Ensemble methods usually produces more accurate solutions than a single model would. The models used to create such ensemble models are called ‘base models’.\n",
        "\n",
        "We will use [Linear SVM](https://scikit-learn.org/stable/modules/generated/sklearn.svm.SVC.html#sklearn.svm.SVC), [Radial SVM](https://scikit-learn.org/stable/modules/generated/sklearn.svm.SVC.html#sklearn.svm.SVC), [Logistic Regression](https://scikit-learn.org/stable/modules/generated/sklearn.linear_model.LogisticRegression.html) and [Random Forest Classifier](https://scikit-learn.org/stable/modules/generated/sklearn.ensemble.RandomForestClassifier.html), and use their results to predict.\n",
        "\n",
        "We will do ensembling with the [Voting Ensemble](https://scikit-learn.org/stable/modules/generated/sklearn.ensemble.VotingClassifier.html). Voting is one of the simplest ways of combining the predictions from multiple machine learning algorithms. It works by first creating two or more standalone models from your training dataset. A Voting Classifier can then be used to wrap your models and average the predictions of the sub-models when asked to make predictions for new data.\n",
        "\n",
        "We will be using weighted Voting Classifier. We will assign to the classifiers according to their accuracies. So the classifier with single accuracy will be assigned the highest weight and so on.\n",
        "\n",
        "But before directly moving to using Voting Classifier, let's take a look at how the above mentioned classification algorithms work individually."
      ]
    },
    {
      "cell_type": "code",
      "metadata": {
        "id": "dKGu6EEFSUAt",
        "outputId": "7d7ef9bd-900b-46d7-ab71-515459821a68"
      },
      "source": [
        "from sklearn import svm\n",
        "from sklearn.linear_model import LogisticRegression\n",
        "from sklearn.ensemble import RandomForestClassifier\n",
        "\n",
        "from sklearn import metrics\n",
        "\n",
        "accuracy = []\n",
        "classifiers = ['Linear Svm', 'Radial Svm', 'Logistic Regression', 'Random Forest Classifier']\n",
        "\n",
        "models = [svm.SVC(kernel='linear'),\n",
        "          svm.SVC(kernel='rbf'),\n",
        "          LogisticRegression(),\n",
        "          RandomForestClassifier(n_estimators=200, random_state=0)]\n",
        "\n",
        "for i in models:\n",
        "    model = i\n",
        "    pipe = Pipeline(steps=[\n",
        "                    ('preprocessor', preprocessor),\n",
        "                    ('model', model)])\n",
        "    \n",
        "    pipe.fit(train_set[features], np.ravel(train_set[target]))\n",
        "    prediction = pipe.predict(valid_set[features])\n",
        "    accuracy.append(pipe.score(valid_set[features], valid_set[target]))\n",
        "\n",
        "observations = pd.DataFrame(accuracy, index=classifiers, columns=['Score'])\n",
        "observations.sort_values(by = 'Score', ascending = False)"
      ],
      "execution_count": null,
      "outputs": [
        {
          "output_type": "execute_result",
          "data": {
            "text/html": [
              "<div>\n",
              "<style scoped>\n",
              "    .dataframe tbody tr th:only-of-type {\n",
              "        vertical-align: middle;\n",
              "    }\n",
              "\n",
              "    .dataframe tbody tr th {\n",
              "        vertical-align: top;\n",
              "    }\n",
              "\n",
              "    .dataframe thead th {\n",
              "        text-align: right;\n",
              "    }\n",
              "</style>\n",
              "<table border=\"1\" class=\"dataframe\">\n",
              "  <thead>\n",
              "    <tr style=\"text-align: right;\">\n",
              "      <th></th>\n",
              "      <th>Score</th>\n",
              "    </tr>\n",
              "  </thead>\n",
              "  <tbody>\n",
              "    <tr>\n",
              "      <th>Random Forest Classifier</th>\n",
              "      <td>0.839552</td>\n",
              "    </tr>\n",
              "    <tr>\n",
              "      <th>Linear Svm</th>\n",
              "      <td>0.828358</td>\n",
              "    </tr>\n",
              "    <tr>\n",
              "      <th>Radial Svm</th>\n",
              "      <td>0.820896</td>\n",
              "    </tr>\n",
              "    <tr>\n",
              "      <th>Logistic Regression</th>\n",
              "      <td>0.813433</td>\n",
              "    </tr>\n",
              "  </tbody>\n",
              "</table>\n",
              "</div>"
            ],
            "text/plain": [
              "                             Score\n",
              "Random Forest Classifier  0.839552\n",
              "Linear Svm                0.828358\n",
              "Radial Svm                0.820896\n",
              "Logistic Regression       0.813433"
            ]
          },
          "metadata": {
            "tags": []
          },
          "execution_count": 13
        }
      ]
    },
    {
      "cell_type": "markdown",
      "metadata": {
        "id": "w4e5VsP4SUAx"
      },
      "source": [
        "### 1.2 Voting Ensemble\n",
        "We will select the top 3 models based on their scores i.e. Linear Svm, Radial Svm and Random Forest Classifier."
      ]
    },
    {
      "cell_type": "code",
      "metadata": {
        "id": "xAwGfxkNSUAy"
      },
      "source": [
        "from sklearn.ensemble import VotingClassifier\n",
        "\n",
        "linear_svm = svm.SVC(kernel='linear', C=0.1,gamma=10, probability=True)\n",
        "pipe_linear = Pipeline(steps=[('preprocessor', preprocessor),\n",
        "                              ('model', linear_svm)])\n",
        "\n",
        "radial_svm = svm.SVC(kernel='rbf', C=0.1,gamma=10, probability=True)\n",
        "pipe_radial = Pipeline(steps=[('preprocessor', preprocessor),\n",
        "                              ('model', radial_svm)])\n",
        "\n",
        "rand = RandomForestClassifier(n_estimators=200, random_state=0)\n",
        "pipe_rand = Pipeline(steps=[('preprocessor', preprocessor),\n",
        "                            ('model', rand)])\n",
        "\n",
        "\n",
        "ensemble_all = VotingClassifier(estimators=[('Linear_svm', pipe_linear),\n",
        "                                            ('Radial_svm', pipe_radial), \n",
        "                                            ('Random Forest Classifier', pipe_rand)],\n",
        "                                voting='soft')\n",
        "\n",
        "ensemble_all.fit(train_set[features], np.ravel(train_set[target]))\n",
        "pred_valid = ensemble_all.predict(valid_set[features])"
      ],
      "execution_count": null,
      "outputs": []
    },
    {
      "cell_type": "markdown",
      "metadata": {
        "id": "LpuO078XSUA1"
      },
      "source": [
        "#### Evaluation of model with 3 classifiers."
      ]
    },
    {
      "cell_type": "code",
      "metadata": {
        "id": "8T0wYzhSSUA2",
        "outputId": "565fe482-5d1c-4cf6-9edb-2150624b3204"
      },
      "source": [
        "from sklearn.metrics import confusion_matrix, classification_report\n",
        "\n",
        "acc_train = round(ensemble_all.score(train_set[features], train_set[target]) * 100, 2)\n",
        "acc_valid = round(ensemble_all.score(valid_set[features], valid_set[target]) * 100, 2)\n",
        "\n",
        "print(\"Train set Accuracy: \", acc_train, \"%\\nValidation set Accuracy: \", acc_valid, \"%\")\n",
        "\n",
        "print(\"\\nConfusion Matrix:\\n\", confusion_matrix(valid_set[target], pred_valid))\n",
        "print(\"\\nClassification Report:\\n\", classification_report(valid_set[target], pred_valid))"
      ],
      "execution_count": null,
      "outputs": [
        {
          "output_type": "stream",
          "text": [
            "Train set Accuracy:  99.68 %\n",
            "Validation set Accuracy:  83.21 %\n",
            "\n",
            "Confusion Matrix:\n",
            " [[149  19]\n",
            " [ 26  74]]\n",
            "\n",
            "Classification Report:\n",
            "               precision    recall  f1-score   support\n",
            "\n",
            "           0       0.85      0.89      0.87       168\n",
            "           1       0.80      0.74      0.77       100\n",
            "\n",
            "    accuracy                           0.83       268\n",
            "   macro avg       0.82      0.81      0.82       268\n",
            "weighted avg       0.83      0.83      0.83       268\n",
            "\n"
          ],
          "name": "stdout"
        }
      ]
    },
    {
      "cell_type": "markdown",
      "metadata": {
        "id": "RPQZ9MDLSUA6"
      },
      "source": [
        "### 2. Random Forest Classifier"
      ]
    },
    {
      "cell_type": "code",
      "metadata": {
        "id": "S-DYDOIpSUA7"
      },
      "source": [
        "from sklearn.ensemble import RandomForestClassifier\n",
        "\n",
        "model = RandomForestClassifier(n_estimators=200, random_state=0)\n",
        "\n",
        "pipe = Pipeline(steps=[('preprocessor', preprocessor),\n",
        "                      ('model', model)])\n",
        "\n",
        "pipe.fit(train_set[features], np.ravel(train_set[target]))\n",
        "\n",
        "pred_valid = pipe.predict(valid_set[features])"
      ],
      "execution_count": null,
      "outputs": []
    },
    {
      "cell_type": "markdown",
      "metadata": {
        "id": "cCZNFrKUSUA-"
      },
      "source": [
        "#### Evaluation of model with the best classifier."
      ]
    },
    {
      "cell_type": "code",
      "metadata": {
        "id": "s7ksDSpnSUBB",
        "outputId": "85531796-7a72-48ae-9b24-502eb6c98922"
      },
      "source": [
        "from sklearn.metrics import confusion_matrix, classification_report\n",
        "\n",
        "acc_ran_train = round(pipe.score(train_set[features], train_set[target]) * 100, 2)\n",
        "acc_ran_valid = round(pipe.score(valid_set[features], valid_set[target]) * 100, 2)\n",
        "\n",
        "print(\"Train set Accuracy: \", acc_ran_train, \"%\\nValidation set Accuracy: \", acc_ran_valid, \"%\")\n",
        "\n",
        "print(\"\\nConfusion Matrix:\\n\", confusion_matrix(valid_set[target], pred_valid))\n",
        "print(\"\\nClassification Report:\\n\", classification_report(valid_set[target], pred_valid))"
      ],
      "execution_count": null,
      "outputs": [
        {
          "output_type": "stream",
          "text": [
            "Train set Accuracy:  99.84 %\n",
            "Validation set Accuracy:  83.96 %\n",
            "\n",
            "Confusion Matrix:\n",
            " [[153  15]\n",
            " [ 28  72]]\n",
            "\n",
            "Classification Report:\n",
            "               precision    recall  f1-score   support\n",
            "\n",
            "           0       0.85      0.91      0.88       168\n",
            "           1       0.83      0.72      0.77       100\n",
            "\n",
            "    accuracy                           0.84       268\n",
            "   macro avg       0.84      0.82      0.82       268\n",
            "weighted avg       0.84      0.84      0.84       268\n",
            "\n"
          ],
          "name": "stdout"
        }
      ]
    },
    {
      "cell_type": "code",
      "metadata": {
        "id": "PKy1wemySUBE"
      },
      "source": [
        "pred_test = pipe.predict(test[features])\n",
        "\n",
        "output = pd.DataFrame({'PassengerId': test.PassengerId, 'Survived': pred_test})\n",
        "output.to_csv('submission.csv', index=False)"
      ],
      "execution_count": null,
      "outputs": []
    }
  ]
}